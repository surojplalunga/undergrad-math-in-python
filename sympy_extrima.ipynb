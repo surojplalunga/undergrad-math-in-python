{
 "cells": [
  {
   "cell_type": "code",
   "execution_count": 2,
   "id": "d73496e5-5e08-43bf-bac7-acb896742651",
   "metadata": {},
   "outputs": [],
   "source": [
    "import numpy as np \n",
    "import sympy as smp \n",
    "from sympy.vector import*\n",
    "import matplotlib.pyplot as plt\n",
    "from scipy.integrate import*"
   ]
  },
  {
   "cell_type": "markdown",
   "id": "96e5de96-81a0-40ba-86b4-79873c0cb76e",
   "metadata": {},
   "source": [
    "<h2>Exterme values and saddle points</h2>"
   ]
  },
  {
   "cell_type": "markdown",
   "id": "ff0741da-1ab5-4be5-af7a-f3afa5ad101d",
   "metadata": {},
   "source": [
    "<p>Extreme Values of $f(x,y)$ can occur at </p>\n",
    "<li>Boundary points of the domain of f</li>\n",
    "<li>Critical Points ($f_x = f_y=0$)</li>\n"
   ]
  },
  {
   "cell_type": "markdown",
   "id": "162651f3-c9aa-4577-a444-cd08bdf3558e",
   "metadata": {},
   "source": [
    "<p><b>If</b>$f_{xx} f_{yy} - (f_{xy})^2>0$</p>\n",
    "<li>$f_{xx} >0 $ at (a,b) then <b>local minimum</b></li>\n",
    "<li>$f_{xx} <0 $ at (a,b) then <b>Local maximum</b></li>"
   ]
  },
  {
   "cell_type": "markdown",
   "id": "af7468b1-8fac-4d35-8baf-7e3a5f73b231",
   "metadata": {},
   "source": [
    "<b>If</b> $f_{xx}f_{yy} - f_{xy}^2 <0 $ at (a,b) then <b>saddle point</b><p></p>\n",
    "<b>If </b> $ f_{xx}f_{yy} - f_{xy}^2 =0 $ at (a,b) then <b> Inconclusive</b>"
   ]
  },
  {
   "cell_type": "code",
   "execution_count": 3,
   "id": "b9ba2684-c0ff-42a3-b1f9-96d66ee337b4",
   "metadata": {},
   "outputs": [],
   "source": [
    "x,y = smp.symbols('x y', real=True)"
   ]
  },
  {
   "cell_type": "code",
   "execution_count": 9,
   "id": "8c7dab6f-3fe7-466b-9853-02ce337710ec",
   "metadata": {},
   "outputs": [
    {
     "data": {
      "text/latex": [
       "$\\displaystyle x^{3} + 3 x y + y^{3}$"
      ],
      "text/plain": [
       "x**3 + 3*x*y + y**3"
      ]
     },
     "execution_count": 9,
     "metadata": {},
     "output_type": "execute_result"
    }
   ],
   "source": [
    "f = x**3 + 3*x*y + y**3\n",
    "f"
   ]
  },
  {
   "cell_type": "code",
   "execution_count": 5,
   "id": "94ff3798-c9f2-4117-ba65-f9cce156cf35",
   "metadata": {},
   "outputs": [
    {
     "data": {
      "text/plain": [
       "[{x: -1, y: -1}, {x: 0, y: 0}]"
      ]
     },
     "execution_count": 5,
     "metadata": {},
     "output_type": "execute_result"
    }
   ],
   "source": [
    "smp.solve([smp.diff(f,x),smp.diff(f,y)])\n"
   ]
  },
  {
   "cell_type": "code",
   "execution_count": 10,
   "id": "28a64b65-214c-4a17-b390-e7ad7067cfa0",
   "metadata": {},
   "outputs": [
    {
     "data": {
      "text/latex": [
       "$\\displaystyle 36 x y - 9$"
      ],
      "text/plain": [
       "36*x*y - 9"
      ]
     },
     "execution_count": 10,
     "metadata": {},
     "output_type": "execute_result"
    }
   ],
   "source": [
    "fxx = smp.diff(f,x,x)\n",
    "fyy = smp.diff(f,y,y)\n",
    "fxy = smp.diff(f,x,y)\n",
    "eqn = fxx*fyy-fxy**2\n",
    "eqn"
   ]
  },
  {
   "cell_type": "markdown",
   "id": "a610d94c-9aa1-4085-bf20-556723c6783b",
   "metadata": {},
   "source": [
    "testing for (-1,-1)"
   ]
  },
  {
   "cell_type": "code",
   "execution_count": 11,
   "id": "53bdc83c-718b-42ff-992f-61fe5aa4b5c6",
   "metadata": {},
   "outputs": [
    {
     "data": {
      "text/latex": [
       "$\\displaystyle 27$"
      ],
      "text/plain": [
       "27"
      ]
     },
     "execution_count": 11,
     "metadata": {},
     "output_type": "execute_result"
    }
   ],
   "source": [
    "eqn.subs([(x,-1),(y,-1)]).doit()"
   ]
  },
  {
   "cell_type": "code",
   "execution_count": 12,
   "id": "649e6648-164f-478e-8793-a1bd0570be2f",
   "metadata": {},
   "outputs": [
    {
     "data": {
      "text/latex": [
       "$\\displaystyle -6$"
      ],
      "text/plain": [
       "-6"
      ]
     },
     "execution_count": 12,
     "metadata": {},
     "output_type": "execute_result"
    }
   ],
   "source": [
    "fxx.subs([(x,-1),(y,-1)])"
   ]
  },
  {
   "cell_type": "markdown",
   "id": "e963c517-a676-4774-a679-51023801a1d6",
   "metadata": {},
   "source": [
    "for testing for (0,0)"
   ]
  },
  {
   "cell_type": "code",
   "execution_count": 13,
   "id": "89e83ba5-2c97-4133-89fc-af51c0508e5c",
   "metadata": {},
   "outputs": [
    {
     "data": {
      "text/latex": [
       "$\\displaystyle 0$"
      ],
      "text/plain": [
       "0"
      ]
     },
     "execution_count": 13,
     "metadata": {},
     "output_type": "execute_result"
    }
   ],
   "source": [
    "fxx.subs([(x,0),(y,0)])"
   ]
  },
  {
   "cell_type": "code",
   "execution_count": 14,
   "id": "7685c65c-885c-43fc-ac6f-43142c2b091f",
   "metadata": {},
   "outputs": [
    {
     "data": {
      "text/latex": [
       "$\\displaystyle -9$"
      ],
      "text/plain": [
       "-9"
      ]
     },
     "execution_count": 14,
     "metadata": {},
     "output_type": "execute_result"
    }
   ],
   "source": [
    "eqn.subs([(x,0),(y,0)])"
   ]
  },
  {
   "cell_type": "markdown",
   "id": "8fa78e6d-2d7f-45b3-bf0e-f2fe35d084c9",
   "metadata": {},
   "source": [
    "saddle point"
   ]
  },
  {
   "cell_type": "markdown",
   "id": "04be20f7-4294-4f18-8348-d5b0eaa62303",
   "metadata": {},
   "source": [
    "<h2>Lagrange Multipliers</h2>"
   ]
  },
  {
   "cell_type": "markdown",
   "id": "df5545b0-86f7-4c10-8660-8873c74f5ef7",
   "metadata": {},
   "source": [
    "Minimize $f(x,y,z)$ subject to the contraint $g(x,y,z)=0$\n",
    "<li>Require solving the two equation $\\nabla f = \\lambda \\nabla g$ and $g(x,y,z)=0$</li>"
   ]
  },
  {
   "cell_type": "markdown",
   "id": "10b38c22-112b-4be8-a877-199ba8cbdd16",
   "metadata": {},
   "source": [
    "<b>Example</b> A space probe has the shape of an ellipsoid $4x^2 +y^2 +4z^2 =16$ and after sitting in the sun for an hour.the tempr on its surface is given by $T(x,y,z)=8x^2+4yz - 16z+600$. Find the hottest point on the surface.\n"
   ]
  },
  {
   "cell_type": "code",
   "execution_count": 15,
   "id": "0a4cc089-e99b-42b2-8d05-81252ea32e23",
   "metadata": {},
   "outputs": [],
   "source": [
    "C = CoordSys3D('')\n",
    "T = 8*C.x**2 + 4*C.y*C.z -16*C.z +600\n",
    "phi = 4*C.x**2 + C.y**2 + 4*C.z**2 - 16\n",
    "lam = smp.symbols(r'\\lambda')"
   ]
  },
  {
   "cell_type": "code",
   "execution_count": 16,
   "id": "09f60352-884e-4637-8ce4-6ebb86f592f4",
   "metadata": {},
   "outputs": [
    {
     "data": {
      "text/latex": [
       "$\\displaystyle \\left[\\begin{matrix}- 8 \\mathbf{{x}_{}} \\lambda + 16 \\mathbf{{x}_{}}\\\\- 2 \\mathbf{{y}_{}} \\lambda + 4 \\mathbf{{z}_{}}\\\\4 \\mathbf{{y}_{}} - 8 \\mathbf{{z}_{}} \\lambda - 16\\end{matrix}\\right]$"
      ],
      "text/plain": [
       "Matrix([\n",
       "[   -8*.x*\\lambda + 16*.x],\n",
       "[    -2*.y*\\lambda + 4*.z],\n",
       "[4*.y - 8*.z*\\lambda - 16]])"
      ]
     },
     "execution_count": 16,
     "metadata": {},
     "output_type": "execute_result"
    }
   ],
   "source": [
    "gradT = gradient(T)\n",
    "gradPhi = gradient(phi)\n",
    "eqn = gradT - lam*gradPhi\n",
    "eqn  = eqn.to_matrix(C)\n",
    "eqn"
   ]
  },
  {
   "cell_type": "code",
   "execution_count": 17,
   "id": "cb1441ce-b57e-43ea-9e66-e3311a7b7d9d",
   "metadata": {},
   "outputs": [
    {
     "data": {
      "text/plain": [
       "[{.x: -4/3, .y: -4/3, .z: -4/3, \\lambda: 2},\n",
       " {.x: 0, .y: -2, .z: -sqrt(3), \\lambda: sqrt(3)},\n",
       " {.x: 0, .y: -2, .z: sqrt(3), \\lambda: -sqrt(3)},\n",
       " {.x: 0, .y: 4, .z: 0, \\lambda: 0},\n",
       " {.x: 4/3, .y: -4/3, .z: -4/3, \\lambda: 2}]"
      ]
     },
     "execution_count": 17,
     "metadata": {},
     "output_type": "execute_result"
    }
   ],
   "source": [
    "soln = smp.solve([eqn,phi])\n",
    "soln"
   ]
  },
  {
   "cell_type": "code",
   "execution_count": 18,
   "id": "98a6c5a3-f709-47ad-a4f5-78af9d32ecec",
   "metadata": {},
   "outputs": [
    {
     "name": "stdout",
     "output_type": "stream",
     "text": [
      "642.666666666667\n",
      "641.569219381653\n",
      "558.430780618347\n",
      "600.000000000000\n",
      "642.666666666667\n"
     ]
    }
   ],
   "source": [
    "for sol in soln:\n",
    "    print(T.subs(sol).evalf())"
   ]
  },
  {
   "cell_type": "markdown",
   "id": "1160e2a2-ac38-456f-9202-a78740e0e286",
   "metadata": {},
   "source": [
    "<h2>Multiple Integrals</h2>"
   ]
  },
  {
   "cell_type": "markdown",
   "id": "a0d98c9b-8298-4ece-ab60-c8ff228d6973",
   "metadata": {},
   "source": [
    "in rare cases these can be done symbolically:\n",
    "$$\\int_{0}^{1}\\int_{0}^{1-x^2}\\int_{3}^{4-x^2-y^2} xdzdydx$$"
   ]
  },
  {
   "cell_type": "code",
   "execution_count": 19,
   "id": "d96d7164-b516-41fb-8910-83ace1cff963",
   "metadata": {},
   "outputs": [
    {
     "data": {
      "text/latex": [
       "$\\displaystyle \\frac{1}{8}$"
      ],
      "text/plain": [
       "1/8"
      ]
     },
     "execution_count": 19,
     "metadata": {},
     "output_type": "execute_result"
    }
   ],
   "source": [
    "x,y,z = smp.symbols('x,y,z')\n",
    "f = x\n",
    "smp.integrate(f,(z,3,4-x**2-y**2),(y,0,1-x**2),(x,0,1))\n"
   ]
  },
  {
   "cell_type": "markdown",
   "id": "89e0ac4d-290c-4101-9634-b9bfdf5be630",
   "metadata": {},
   "source": [
    "but most of the time they need to be done numerically, such as in this example"
   ]
  },
  {
   "cell_type": "markdown",
   "id": "2c4636ad-ebc0-42fb-a54f-32f203d10de7",
   "metadata": {},
   "source": [
    "$$\\int_{0}^{1}\\int_{0}^{1-x^2} \\int_{3}^{4-x^2-y^2} xe^{-y}cos(z)dzdydx$$"
   ]
  },
  {
   "cell_type": "code",
   "execution_count": 20,
   "id": "a09af984-d1af-4ad5-8706-a8c0ddbf2ba2",
   "metadata": {},
   "outputs": [],
   "source": [
    "#won't run!!\n",
    "#x,y,z = smp.symbols('x,y,z')\n",
    "#f = x*smp.exp(-y) * smp.cos(z)\n",
    "#smp.integrate(f,(z,3,4-x**2-y**2),(y,0,1-x**2),(x,0,1))\n"
   ]
  },
  {
   "cell_type": "markdown",
   "id": "cfbb4663-9b68-46f0-815b-5578bd542349",
   "metadata": {},
   "source": [
    "Use scipy to evaluate this numerically\n"
   ]
  },
  {
   "cell_type": "code",
   "execution_count": 21,
   "id": "8bba2ce8-d97e-4098-bb77-7f42373324ce",
   "metadata": {},
   "outputs": [
    {
     "data": {
      "text/plain": [
       "-0.09109526451447894"
      ]
     },
     "execution_count": 21,
     "metadata": {},
     "output_type": "execute_result"
    }
   ],
   "source": [
    "from scipy.integrate import tplquad\n",
    "f = lambda z,y,x: x*np.exp(-y)*np.cos(z)\n",
    "tplquad(f,0,1,\n",
    "        0,lambda x: 1-x**2,\n",
    "        3,lambda x,y: 4-x**2-y**2)[0]"
   ]
  },
  {
   "cell_type": "markdown",
   "id": "2af772dd-6335-4a81-b1b3-1aefb7bd5b84",
   "metadata": {},
   "source": [
    "<h2>Integrals and Vector Fields</h2>"
   ]
  },
  {
   "cell_type": "markdown",
   "id": "f4f0708f-8e9e-4a5f-86f3-f3208684fba7",
   "metadata": {},
   "source": [
    "<h3>Line Intergals Scalars</h3>\n"
   ]
  },
  {
   "cell_type": "markdown",
   "id": "6796ba36-ea68-427f-a177-e6d71e41b78b",
   "metadata": {},
   "source": [
    "Given $\\vec r(t) = <g(t),h(t),k(t)>$ the line integral of $f(x,y,z)$ along the curve is \n",
    "$$\\int_{c} f(x,y,z)ds = \\int_{a}^{b} f(g(t),h(t),k(t))|\\frac{d\\vec r}{dt}|dt$$"
   ]
  },
  {
   "cell_type": "code",
   "execution_count": 22,
   "id": "acf1b1a1-fa5d-4b08-aae3-645b6b1eaf23",
   "metadata": {},
   "outputs": [],
   "source": [
    "t = smp.symbols('t', real=True)\n",
    "x,y,z,f = smp.symbols('x y z f', cls = smp.Function, real=True)\n",
    "x=x(t)\n",
    "y=y(t)\n",
    "z=z(t)\n",
    "r = smp.Matrix([x,y,z])\n",
    "f=f(x,y,z)"
   ]
  },
  {
   "cell_type": "code",
   "execution_count": 23,
   "id": "6c318d9c-7de0-49f2-9b26-0cc758a21a69",
   "metadata": {},
   "outputs": [
    {
     "data": {
      "text/latex": [
       "$\\displaystyle \\sqrt{\\left|{\\frac{d}{d t} x{\\left(t \\right)}}\\right|^{2} + \\left|{\\frac{d}{d t} y{\\left(t \\right)}}\\right|^{2} + \\left|{\\frac{d}{d t} z{\\left(t \\right)}}\\right|^{2}} f{\\left(x{\\left(t \\right)},y{\\left(t \\right)},z{\\left(t \\right)} \\right)}$"
      ],
      "text/plain": [
       "sqrt(Abs(Derivative(x(t), t))**2 + Abs(Derivative(y(t), t))**2 + Abs(Derivative(z(t), t))**2)*f(x(t), y(t), z(t))"
      ]
     },
     "execution_count": 23,
     "metadata": {},
     "output_type": "execute_result"
    }
   ],
   "source": [
    "integrand = f*smp.diff(r,t).norm()\n",
    "integrand"
   ]
  },
  {
   "cell_type": "markdown",
   "id": "ecfd3238-e500-4826-b28a-8b1a55829b17",
   "metadata": {},
   "source": [
    "Suppose\n",
    "<li>$\\vec r(t) = <\\cos(t),\\sin(t),t>$</li>\n",
    "<li>$f(x,y,z) = 2xy+\\sqrt{z}$</li>\n",
    "and we are going to $t = 0 $to $t=2\\pi$.In this case it can be solved symbolically"
   ]
  },
  {
   "cell_type": "code",
   "execution_count": 24,
   "id": "551c06be-f2a5-4d30-a8d5-f37bc0bcfbb3",
   "metadata": {},
   "outputs": [
    {
     "data": {
      "text/latex": [
       "$\\displaystyle \\sqrt{2} f{\\left(\\cos{\\left(t \\right)},\\sin{\\left(t \\right)},t \\right)}$"
      ],
      "text/plain": [
       "sqrt(2)*f(cos(t), sin(t), t)"
      ]
     },
     "execution_count": 24,
     "metadata": {},
     "output_type": "execute_result"
    }
   ],
   "source": [
    "r = smp.Matrix([smp.cos(t),smp.sin(t),t])\n",
    "f= f.subs([(x,smp.cos(t)),(y,smp.sin(t)),(z,t)])\n",
    "integrand = f*smp.diff(r,t).norm().doit()\n",
    "integrand = integrand.simplify()\n",
    "integrand"
   ]
  },
  {
   "cell_type": "code",
   "execution_count": 25,
   "id": "9230745d-11e5-4303-84be-7b064ce40a45",
   "metadata": {},
   "outputs": [
    {
     "data": {
      "text/latex": [
       "$\\displaystyle \\sqrt{2} \\int\\limits_{0}^{2 \\pi} f{\\left(\\cos{\\left(t \\right)},\\sin{\\left(t \\right)},t \\right)}\\, dt$"
      ],
      "text/plain": [
       "sqrt(2)*Integral(f(cos(t), sin(t), t), (t, 0, 2*pi))"
      ]
     },
     "execution_count": 25,
     "metadata": {},
     "output_type": "execute_result"
    }
   ],
   "source": [
    "smp.integrate(integrand,(t,0,2*smp.pi))"
   ]
  },
  {
   "cell_type": "markdown",
   "id": "f472030f-1089-49b1-928f-356c8c457333",
   "metadata": {},
   "source": [
    "in general, can't be done symbolically. Consider now"
   ]
  },
  {
   "cell_type": "markdown",
   "id": "1239f50f-20e9-4ce3-92eb-c38df9dea593",
   "metadata": {},
   "source": [
    "<li> $\\vec r = <3cos(t),2sin(t),e^{t/4}>$ </li>\n",
    "    \n",
    "<li>$f(x,y,z)=2xy+\\sqrt{z}$</li>\n",
    "$t = 0 $ to $t=2\\pi$"
   ]
  },
  {
   "cell_type": "code",
   "execution_count": 26,
   "id": "fceba9d1-7d62-400e-ab6c-08e6e3e1276e",
   "metadata": {},
   "outputs": [
    {
     "data": {
      "text/latex": [
       "$\\displaystyle \\frac{\\left(e^{\\frac{t}{8}} + 12 \\sin{\\left(t \\right)} \\cos{\\left(t \\right)}\\right) \\sqrt{e^{\\frac{t}{2}} + 80 \\sin^{2}{\\left(t \\right)} + 64}}{4}$"
      ],
      "text/plain": [
       "(exp(t/8) + 12*sin(t)*cos(t))*sqrt(exp(t/2) + 80*sin(t)**2 + 64)/4"
      ]
     },
     "execution_count": 26,
     "metadata": {},
     "output_type": "execute_result"
    }
   ],
   "source": [
    "f2 = 2*x*y + smp.sqrt(z)\n",
    "f2 = f2.subs([(x,3*smp.cos(t)),(y,2*smp.sin(t)),(z,smp.exp(t/4))])\n",
    "r = smp.Matrix([3*smp.cos(t),2*smp.sin(t),smp.exp(t/4)])\n",
    "\n",
    "int3 = f2*smp.diff(r,t).norm().doit().simplify()\n",
    "int3"
   ]
  },
  {
   "cell_type": "code",
   "execution_count": 39,
   "id": "abbbef9b-1884-413f-8094-08c18703e745",
   "metadata": {},
   "outputs": [
    {
     "data": {
      "text/plain": [
       "24.294733741870633"
      ]
     },
     "execution_count": 39,
     "metadata": {},
     "output_type": "execute_result"
    }
   ],
   "source": [
    "int3_f = smp.lambdify([t],int3)\n",
    "quad(int3_f,0,2*np.pi)[0]"
   ]
  },
  {
   "cell_type": "markdown",
   "id": "53c817b3-421f-4c8c-a587-fcf738ac50f6",
   "metadata": {},
   "source": [
    "<h2>Line Integrals (vector)</h2>\n"
   ]
  },
  {
   "cell_type": "markdown",
   "id": "530110a0-1250-43d6-b882-3e239723a195",
   "metadata": {},
   "source": [
    "Given $\\vec r(t) = <g(t),h(t),k(t)>$ the line integral of $\\vec F(x,y,z)$ along the curve is \n",
    "$$\\int_{c} \\vec F(x,y,z) \\cdot d\\vec {r(t)} = \\int_{a}^{b} \\vec F(g(t),h(t),k(t))\\cdot \\frac{d\\vec r}{dt}dt$$"
   ]
  },
  {
   "cell_type": "code",
   "execution_count": 28,
   "id": "c7636b2c-1bc9-4ff5-a25e-ebf7541de783",
   "metadata": {},
   "outputs": [],
   "source": [
    "t = smp.symbols('t')\n",
    "x,y,z,F1,F2,F3 = smp.symbols('x y z F1 F2 F3', cls=smp.Function)\n",
    "x=x(t)\n",
    "y=y(t)\n",
    "z=z(t)\n",
    "F1 = F1(x,y,z)\n",
    "F2 = F2(x,y,z)\n",
    "F3 = F3(x,y,z)\n",
    "r = smp.Matrix([x,y,z])\n",
    "F = smp.Matrix([F1,F2,F3])\n"
   ]
  },
  {
   "cell_type": "code",
   "execution_count": 29,
   "id": "32f7fd83-f8b0-40f4-ad38-39f9771f3722",
   "metadata": {},
   "outputs": [
    {
     "data": {
      "text/latex": [
       "$\\displaystyle F_{1}{\\left(x{\\left(t \\right)},y{\\left(t \\right)},z{\\left(t \\right)} \\right)} \\frac{d}{d t} x{\\left(t \\right)} + F_{2}{\\left(x{\\left(t \\right)},y{\\left(t \\right)},z{\\left(t \\right)} \\right)} \\frac{d}{d t} y{\\left(t \\right)} + F_{3}{\\left(x{\\left(t \\right)},y{\\left(t \\right)},z{\\left(t \\right)} \\right)} \\frac{d}{d t} z{\\left(t \\right)}$"
      ],
      "text/plain": [
       "F1(x(t), y(t), z(t))*Derivative(x(t), t) + F2(x(t), y(t), z(t))*Derivative(y(t), t) + F3(x(t), y(t), z(t))*Derivative(z(t), t)"
      ]
     },
     "execution_count": 29,
     "metadata": {},
     "output_type": "execute_result"
    }
   ],
   "source": [
    "integrand = F.dot(smp.diff(r,t))\n",
    "integrand"
   ]
  },
  {
   "cell_type": "markdown",
   "id": "4aa995e4-bed2-45b9-b9f4-8c364c1318d5",
   "metadata": {},
   "source": [
    "suppose $\\vec F = <\\sqrt{z},-2x,\\sqrt{y}>$ and $\\vec r(t) = <t,t^2,t^4> $ from $t=0$ to $t=1$"
   ]
  },
  {
   "cell_type": "code",
   "execution_count": 30,
   "id": "33eaf723-cb79-44a9-a07f-e3ba858dd8c5",
   "metadata": {},
   "outputs": [
    {
     "data": {
      "text/latex": [
       "$\\displaystyle 4 t^{3} \\sqrt{t^{2}} - 4 t^{2} + \\sqrt{t^{4}}$"
      ],
      "text/plain": [
       "4*t**3*sqrt(t**2) - 4*t**2 + sqrt(t**4)"
      ]
     },
     "execution_count": 30,
     "metadata": {},
     "output_type": "execute_result"
    }
   ],
   "source": [
    "integrand1 = integrand.subs([(F1,smp.sqrt(z)),(F2,-2*x),(F3,smp.sqrt(y)),(x,t),(y,t**2),(z,t**4)]).doit().simplify()\n",
    "integrand1"
   ]
  },
  {
   "cell_type": "code",
   "execution_count": 31,
   "id": "218a86a1-4ce4-4bfe-ac3a-79e6b19241a4",
   "metadata": {},
   "outputs": [
    {
     "data": {
      "text/latex": [
       "$\\displaystyle - \\frac{1}{5}$"
      ],
      "text/plain": [
       "-1/5"
      ]
     },
     "execution_count": 31,
     "metadata": {},
     "output_type": "execute_result"
    }
   ],
   "source": [
    "smp.integrate(integrand1,(t,0,1))"
   ]
  },
  {
   "cell_type": "markdown",
   "id": "5323ba14-a81f-42b0-b0bc-8993ecf28bef",
   "metadata": {},
   "source": [
    "often times this can't be done by hand , and one needs to evaluate numerically using scipy\n",
    "Suppose $\\vec F =<\\sqrt{|z|},-2x,\\sqrt{|y|}>$ and $\\vec r(t) = <3\\cos^2(t),t^2,2\\sin(t)> $ from $t=0$ to $t=2\\pi$"
   ]
  },
  {
   "cell_type": "code",
   "execution_count": 32,
   "id": "77462414-fb7b-48e8-9463-0ed3a1e0a2d5",
   "metadata": {},
   "outputs": [
    {
     "data": {
      "text/latex": [
       "$\\displaystyle - 8 t \\cos{\\left(t \\right)} - 2 \\sqrt{2} \\sin{\\left(t \\right)} \\sqrt{\\left|{\\sin{\\left(t \\right)}}\\right|} + 2 \\cos{\\left(t \\right)} \\sqrt{\\left|{t^{2}}\\right|}$"
      ],
      "text/plain": [
       "-8*t*cos(t) - 2*sqrt(2)*sin(t)*sqrt(Abs(sin(t))) + 2*cos(t)*sqrt(Abs(t**2))"
      ]
     },
     "execution_count": 32,
     "metadata": {},
     "output_type": "execute_result"
    }
   ],
   "source": [
    "integrand2 = integrand.subs([(F1,smp.sqrt(smp.Abs(z))),(F2,-2*x),(F3,smp.sqrt(smp.Abs(y))),(x,smp.cos(t)*2),(y,t**2),(z,2*smp.sin(t))]).doit().simplify()\n",
    "integrand2"
   ]
  },
  {
   "cell_type": "code",
   "execution_count": 33,
   "id": "a7f14548-d2f9-4d27-8f4d-263d49086c02",
   "metadata": {},
   "outputs": [],
   "source": [
    "int2_f = smp.lambdify([t],integrand2)"
   ]
  },
  {
   "cell_type": "code",
   "execution_count": 34,
   "id": "a7e9b1a3-2b09-44bd-9e23-2080cc71f677",
   "metadata": {},
   "outputs": [
    {
     "data": {
      "text/plain": [
       "-3.274506271788791"
      ]
     },
     "execution_count": 34,
     "metadata": {},
     "output_type": "execute_result"
    }
   ],
   "source": [
    "quad(int2_f,0,1)[0]"
   ]
  },
  {
   "cell_type": "markdown",
   "id": "3366d583-1f21-4438-afa0-603cabae48ef",
   "metadata": {},
   "source": [
    "<h2>Surface Intergral</h2>"
   ]
  },
  {
   "cell_type": "markdown",
   "id": "7b6dda30-7105-470e-84a8-401611f442f8",
   "metadata": {},
   "source": [
    "Area of a surface parameterized by $\\vec r(u,v)$ is given by\n",
    "$$A \\iint_{s} \\left |\\frac{d\\vec r}{dv} \\times \\frac{d\\vec r}{du} \\right| dudv$$"
   ]
  },
  {
   "cell_type": "markdown",
   "id": "b6b101e5-d8cc-4417-81b6-18e0b7c69128",
   "metadata": {},
   "source": [
    "the surface of a scalar funcction is G is given by\n",
    "$$\\iint_{s} G(\\vec r(u,v)) \\left | \\frac{d\\vec r}{du}\\times \\frac{d\\vec r}{dv} \\right |dudv$$"
   ]
  },
  {
   "cell_type": "markdown",
   "id": "5761db5f-66bb-4e55-85d7-07de60f92a19",
   "metadata": {},
   "source": [
    "2D parabola: $\\vec r(x,y) = \\left < x,y,x^2+y^2 \\right > $ and thus $\\vec r(\\rho,\\theta) = \\left < \\rho \\cos(\\theta), \\rho \\sin(\\theta), \\rho^2 \\right>$\n",
    ". suppose the surface density is given by $G(x,y,z) = x^2 +y^2$ .find surface integral for $0<\\rho<1 $ and $0<\\theta<2\\pi$"
   ]
  },
  {
   "cell_type": "code",
   "execution_count": 35,
   "id": "a88e5c4e-8d0c-4b59-94a6-f6e9e42dc47a",
   "metadata": {},
   "outputs": [],
   "source": [
    "rho, theta = smp.symbols(r'\\rho \\theta')\n",
    "x,y,z,G = smp.symbols('x y z G', cls= smp.Function)\n",
    "x = x(rho,theta)\n",
    "y=y(rho,theta)\n",
    "z = z(rho,theta)\n",
    "G = G(x,y,z)\n",
    "# G = x**2+ y**2\n",
    "r = smp.Matrix([x,y,z])"
   ]
  },
  {
   "cell_type": "code",
   "execution_count": 36,
   "id": "8c05094a-314a-482b-9560-3c7f1a1588ea",
   "metadata": {},
   "outputs": [
    {
     "data": {
      "text/latex": [
       "$\\displaystyle \\sqrt{\\left|{\\frac{\\partial}{\\partial \\rho} x{\\left(\\rho,\\theta \\right)} \\frac{\\partial}{\\partial \\theta} y{\\left(\\rho,\\theta \\right)} - \\frac{\\partial}{\\partial \\theta} x{\\left(\\rho,\\theta \\right)} \\frac{\\partial}{\\partial \\rho} y{\\left(\\rho,\\theta \\right)}}\\right|^{2} + \\left|{\\frac{\\partial}{\\partial \\rho} x{\\left(\\rho,\\theta \\right)} \\frac{\\partial}{\\partial \\theta} z{\\left(\\rho,\\theta \\right)} - \\frac{\\partial}{\\partial \\theta} x{\\left(\\rho,\\theta \\right)} \\frac{\\partial}{\\partial \\rho} z{\\left(\\rho,\\theta \\right)}}\\right|^{2} + \\left|{\\frac{\\partial}{\\partial \\rho} y{\\left(\\rho,\\theta \\right)} \\frac{\\partial}{\\partial \\theta} z{\\left(\\rho,\\theta \\right)} - \\frac{\\partial}{\\partial \\theta} y{\\left(\\rho,\\theta \\right)} \\frac{\\partial}{\\partial \\rho} z{\\left(\\rho,\\theta \\right)}}\\right|^{2}} G{\\left(x{\\left(\\rho,\\theta \\right)},y{\\left(\\rho,\\theta \\right)},z{\\left(\\rho,\\theta \\right)} \\right)}$"
      ],
      "text/plain": [
       "sqrt(Abs(Derivative(x(\\rho, \\theta), \\rho)*Derivative(y(\\rho, \\theta), \\theta) - Derivative(x(\\rho, \\theta), \\theta)*Derivative(y(\\rho, \\theta), \\rho))**2 + Abs(Derivative(x(\\rho, \\theta), \\rho)*Derivative(z(\\rho, \\theta), \\theta) - Derivative(x(\\rho, \\theta), \\theta)*Derivative(z(\\rho, \\theta), \\rho))**2 + Abs(Derivative(y(\\rho, \\theta), \\rho)*Derivative(z(\\rho, \\theta), \\theta) - Derivative(y(\\rho, \\theta), \\theta)*Derivative(z(\\rho, \\theta), \\rho))**2)*G(x(\\rho, \\theta), y(\\rho, \\theta), z(\\rho, \\theta))"
      ]
     },
     "execution_count": 36,
     "metadata": {},
     "output_type": "execute_result"
    }
   ],
   "source": [
    "integrand = G*smp.diff(r,rho).cross(smp.diff(r,theta)).norm()\n",
    "integrand"
   ]
  },
  {
   "cell_type": "code",
   "execution_count": 41,
   "id": "a88167d0-ddbe-4d51-8a11-b89bd366089b",
   "metadata": {},
   "outputs": [
    {
     "data": {
      "text/latex": [
       "$\\displaystyle \\rho^{2} \\sqrt{\\left|{\\rho}\\right|^{2} + 4 \\left|{\\rho^{2} \\sin{\\left(\\theta \\right)}}\\right|^{2} + 4 \\left|{\\rho^{2} \\cos{\\left(\\theta \\right)}}\\right|^{2}}$"
      ],
      "text/plain": [
       "\\rho**2*sqrt(Abs(\\rho)**2 + 4*Abs(\\rho**2*sin(\\theta))**2 + 4*Abs(\\rho**2*cos(\\theta))**2)"
      ]
     },
     "execution_count": 41,
     "metadata": {},
     "output_type": "execute_result"
    }
   ],
   "source": [
    "int1 = integrand.subs([(G,x**2+y**2),(x,rho*smp.cos(theta)),(y,rho*smp.sin(theta)),(z,rho**2)]).doit().simplify()\n",
    "int1"
   ]
  },
  {
   "cell_type": "code",
   "execution_count": 42,
   "id": "e434be15-2df7-40d2-a89c-9740b86f4949",
   "metadata": {},
   "outputs": [
    {
     "data": {
      "text/plain": [
       "<function _lambdifygenerated(Dummy_265, Dummy_264)>"
      ]
     },
     "execution_count": 42,
     "metadata": {},
     "output_type": "execute_result"
    }
   ],
   "source": [
    "int1_f = smp.lambdify((rho,theta),int1)\n",
    "int1_f"
   ]
  },
  {
   "cell_type": "markdown",
   "id": "695c3414-ec1f-443e-85eb-22b0fa692608",
   "metadata": {},
   "source": [
    "the surface of a Vector field is $\\vec G(\\vec r)$ is given by\n",
    "$$\\iint_{s} \\vec G(\\vec r(u,v)) \\cdot\\left (\\frac{d\\vec r}{du}\\times \\frac{d\\vec r}{dv} \\right )dudv$$\n",
    "this is also known as the vector field $\\vec G $ throught the surface"
   ]
  },
  {
   "cell_type": "markdown",
   "id": "f861efc3-fe60-4533-9e6e-da1566afb47f",
   "metadata": {},
   "source": [
    "2D parabola: $\\vec r(x,y) = \\left < x,y,x^2+y^2 \\right > $ and thus $\\vec r(\\rho,\\theta) = \\left < \\rho \\cos(\\theta), \\rho \\sin(\\theta), \\rho^2 \\right>$\n",
    ". suppose the Vector field is given by $\\vec G(x,y,z) = \\left <y^2,z,0 \\right > $ .find surface integral for $0<\\rho<1 $ and $0<\\theta<\\pi$"
   ]
  },
  {
   "cell_type": "code",
   "execution_count": 51,
   "id": "a58a3b5d-d6d6-47fe-97ce-3acfc1b91d6e",
   "metadata": {},
   "outputs": [
    {
     "data": {
      "text/latex": [
       "$\\displaystyle \\sqrt{\\left|{\\frac{\\partial}{\\partial \\rho} x{\\left(\\rho,\\theta \\right)} \\frac{\\partial}{\\partial \\theta} y{\\left(\\rho,\\theta \\right)} - \\frac{\\partial}{\\partial \\theta} x{\\left(\\rho,\\theta \\right)} \\frac{\\partial}{\\partial \\rho} y{\\left(\\rho,\\theta \\right)}}\\right|^{2} + \\left|{\\frac{\\partial}{\\partial \\rho} x{\\left(\\rho,\\theta \\right)} \\frac{\\partial}{\\partial \\theta} z{\\left(\\rho,\\theta \\right)} - \\frac{\\partial}{\\partial \\theta} x{\\left(\\rho,\\theta \\right)} \\frac{\\partial}{\\partial \\rho} z{\\left(\\rho,\\theta \\right)}}\\right|^{2} + \\left|{\\frac{\\partial}{\\partial \\rho} y{\\left(\\rho,\\theta \\right)} \\frac{\\partial}{\\partial \\theta} z{\\left(\\rho,\\theta \\right)} - \\frac{\\partial}{\\partial \\theta} y{\\left(\\rho,\\theta \\right)} \\frac{\\partial}{\\partial \\rho} z{\\left(\\rho,\\theta \\right)}}\\right|^{2}}$"
      ],
      "text/plain": [
       "sqrt(Abs(Derivative(x(\\rho, \\theta), \\rho)*Derivative(y(\\rho, \\theta), \\theta) - Derivative(x(\\rho, \\theta), \\theta)*Derivative(y(\\rho, \\theta), \\rho))**2 + Abs(Derivative(x(\\rho, \\theta), \\rho)*Derivative(z(\\rho, \\theta), \\theta) - Derivative(x(\\rho, \\theta), \\theta)*Derivative(z(\\rho, \\theta), \\rho))**2 + Abs(Derivative(y(\\rho, \\theta), \\rho)*Derivative(z(\\rho, \\theta), \\theta) - Derivative(y(\\rho, \\theta), \\theta)*Derivative(z(\\rho, \\theta), \\rho))**2)"
      ]
     },
     "execution_count": 51,
     "metadata": {},
     "output_type": "execute_result"
    }
   ],
   "source": [
    "rho ,theta = smp.symbols(r'\\rho \\theta')\n",
    "x,y,z,G1,G2,G3 = smp.symbols('x y z G1 G2 G3', cls=smp.Function)\n",
    "x = x(rho,theta)\n",
    "y = y(rho,theta)\n",
    "z = z(rho,theta)\n",
    "G1 = G1(x,y,z)\n",
    "G2 = G2(x,y,z)\n",
    "G3 = G3(x,y,z)\n",
    "G = smp.Matrix([G1, G2,G3])\n",
    "r = smp.Matrix([x,y,z])\n",
    "smp.diff(r,rho).cross(smp.diff(r,theta)).norm()"
   ]
  },
  {
   "cell_type": "code",
   "execution_count": 54,
   "id": "523096c8-f080-40b0-bb03-db1811be423d",
   "metadata": {},
   "outputs": [
    {
     "data": {
      "text/latex": [
       "$\\displaystyle \\left(\\frac{\\partial}{\\partial \\rho} x{\\left(\\rho,\\theta \\right)} \\frac{\\partial}{\\partial \\theta} y{\\left(\\rho,\\theta \\right)} - \\frac{\\partial}{\\partial \\theta} x{\\left(\\rho,\\theta \\right)} \\frac{\\partial}{\\partial \\rho} y{\\left(\\rho,\\theta \\right)}\\right) G_{3}{\\left(x{\\left(\\rho,\\theta \\right)},y{\\left(\\rho,\\theta \\right)},z{\\left(\\rho,\\theta \\right)} \\right)} + \\left(- \\frac{\\partial}{\\partial \\rho} x{\\left(\\rho,\\theta \\right)} \\frac{\\partial}{\\partial \\theta} z{\\left(\\rho,\\theta \\right)} + \\frac{\\partial}{\\partial \\theta} x{\\left(\\rho,\\theta \\right)} \\frac{\\partial}{\\partial \\rho} z{\\left(\\rho,\\theta \\right)}\\right) G_{2}{\\left(x{\\left(\\rho,\\theta \\right)},y{\\left(\\rho,\\theta \\right)},z{\\left(\\rho,\\theta \\right)} \\right)} + \\left(\\frac{\\partial}{\\partial \\rho} y{\\left(\\rho,\\theta \\right)} \\frac{\\partial}{\\partial \\theta} z{\\left(\\rho,\\theta \\right)} - \\frac{\\partial}{\\partial \\theta} y{\\left(\\rho,\\theta \\right)} \\frac{\\partial}{\\partial \\rho} z{\\left(\\rho,\\theta \\right)}\\right) G_{1}{\\left(x{\\left(\\rho,\\theta \\right)},y{\\left(\\rho,\\theta \\right)},z{\\left(\\rho,\\theta \\right)} \\right)}$"
      ],
      "text/plain": [
       "(Derivative(x(\\rho, \\theta), \\rho)*Derivative(y(\\rho, \\theta), \\theta) - Derivative(x(\\rho, \\theta), \\theta)*Derivative(y(\\rho, \\theta), \\rho))*G3(x(\\rho, \\theta), y(\\rho, \\theta), z(\\rho, \\theta)) + (-Derivative(x(\\rho, \\theta), \\rho)*Derivative(z(\\rho, \\theta), \\theta) + Derivative(x(\\rho, \\theta), \\theta)*Derivative(z(\\rho, \\theta), \\rho))*G2(x(\\rho, \\theta), y(\\rho, \\theta), z(\\rho, \\theta)) + (Derivative(y(\\rho, \\theta), \\rho)*Derivative(z(\\rho, \\theta), \\theta) - Derivative(y(\\rho, \\theta), \\theta)*Derivative(z(\\rho, \\theta), \\rho))*G1(x(\\rho, \\theta), y(\\rho, \\theta), z(\\rho, \\theta))"
      ]
     },
     "execution_count": 54,
     "metadata": {},
     "output_type": "execute_result"
    }
   ],
   "source": [
    "integrand = G.dot(smp.diff(r,rho).cross(smp.diff(r,theta)))\n",
    "integrand"
   ]
  },
  {
   "cell_type": "code",
   "execution_count": 58,
   "id": "ac9d9581-e69e-4e45-a1f9-dd86a9065e01",
   "metadata": {},
   "outputs": [
    {
     "data": {
      "text/latex": [
       "$\\displaystyle \\rho^{2} \\left(- 2 \\rho^{2} \\sin^{2}{\\left(\\theta \\right)} \\cos{\\left(\\theta \\right)} - 2 \\rho^{2} \\sin{\\left(\\theta \\right)}\\right)$"
      ],
      "text/plain": [
       "\\rho**2*(-2*\\rho**2*sin(\\theta)**2*cos(\\theta) - 2*\\rho**2*sin(\\theta))"
      ]
     },
     "execution_count": 58,
     "metadata": {},
     "output_type": "execute_result"
    }
   ],
   "source": [
    "int2 = integrand.subs([(G1,y**2),(G2,z),(G3,0),(x,rho*smp.cos(theta)),(y,rho*smp.sin(theta)),(z,rho**2)]).simplify().doit()\n",
    "int2"
   ]
  },
  {
   "cell_type": "code",
   "execution_count": 59,
   "id": "77fdf7cc-ce6b-4e1d-86b8-bf3216eda672",
   "metadata": {},
   "outputs": [
    {
     "data": {
      "text/latex": [
       "$\\displaystyle - \\frac{4}{5}$"
      ],
      "text/plain": [
       "-4/5"
      ]
     },
     "execution_count": 59,
     "metadata": {},
     "output_type": "execute_result"
    }
   ],
   "source": [
    "smp.integrate(int2,(rho,0,1),(theta,0,smp.pi))"
   ]
  },
  {
   "cell_type": "markdown",
   "id": "682f5b56-fb21-48bc-82d9-8e0fefbe96ea",
   "metadata": {},
   "source": [
    "Again, if this could not be done symbolically, one would need to converted the integrand into a numpy function and integrate using scipy using quad function like in previous example"
   ]
  },
  {
   "cell_type": "markdown",
   "id": "9c0aa13b-55ee-4f34-8b1d-4540635ff2f1",
   "metadata": {},
   "source": [
    "<h2>Expicit Sympy functionality</h2>"
   ]
  },
  {
   "cell_type": "code",
   "execution_count": 61,
   "id": "7bd08d55-ac9d-43a4-8256-004a97e4c701",
   "metadata": {},
   "outputs": [],
   "source": [
    "from sympy.vector import ParametricRegion"
   ]
  },
  {
   "cell_type": "markdown",
   "id": "4fe76c0c-0494-4ec8-ab64-b26718565e4d",
   "metadata": {},
   "source": [
    "Find the mass of a cylinder with a radius $a$ and height $h$ centered at origin with density $\\rho(x,y) = x^2+y^2$\n",
    "$$mass = \\rho \\times V$$"
   ]
  },
  {
   "cell_type": "code",
   "execution_count": 62,
   "id": "2601a268-3460-40e1-8aa7-d100befb8cee",
   "metadata": {},
   "outputs": [],
   "source": [
    "a,h,r,theta,z = smp.symbols(r'a h r \\theta z')\n",
    "cylinder = ParametricRegion((r*smp.cos(theta),r*smp.sin(theta),z),(theta,0,2*smp.pi),(z,0,h),(r,0,a))"
   ]
  },
  {
   "cell_type": "code",
   "execution_count": 63,
   "id": "90a977d6-3415-4866-adec-0a454171e74d",
   "metadata": {},
   "outputs": [
    {
     "data": {
      "text/latex": [
       "$\\displaystyle \\frac{\\pi a^{4} h}{2}$"
      ],
      "text/plain": [
       "pi*a**4*h/2"
      ]
     },
     "execution_count": 63,
     "metadata": {},
     "output_type": "execute_result"
    }
   ],
   "source": [
    "vector_integrate(C.x**2 +C.y**2,cylinder)"
   ]
  },
  {
   "cell_type": "markdown",
   "id": "01f2748d-15bc-4e8e-9c95-fd2546392de3",
   "metadata": {},
   "source": [
    "Not necessarily a fan of this functionality because there is not clear way of converting it into an numerical function "
   ]
  },
  {
   "cell_type": "code",
   "execution_count": null,
   "id": "f4faf9b3-91ce-416d-897e-b4bb58711e8c",
   "metadata": {},
   "outputs": [],
   "source": []
  }
 ],
 "metadata": {
  "kernelspec": {
   "display_name": "Python 3 (ipykernel)",
   "language": "python",
   "name": "python3"
  },
  "language_info": {
   "codemirror_mode": {
    "name": "ipython",
    "version": 3
   },
   "file_extension": ".py",
   "mimetype": "text/x-python",
   "name": "python",
   "nbconvert_exporter": "python",
   "pygments_lexer": "ipython3",
   "version": "3.11.2"
  }
 },
 "nbformat": 4,
 "nbformat_minor": 5
}
