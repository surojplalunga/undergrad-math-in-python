{
 "cells": [
  {
   "cell_type": "code",
   "execution_count": 2,
   "id": "eec42d39-19ed-419c-8626-d79b7716ffbb",
   "metadata": {},
   "outputs": [],
   "source": [
    "import sympy as smp\n",
    "import numpy as np\n",
    "import matplotlib.pyplot as plt"
   ]
  },
  {
   "cell_type": "markdown",
   "id": "c634155b-a131-4805-937d-dbd58f683dc5",
   "metadata": {},
   "source": [
    "<h2>Sympy</h2>\n",
    "<hr><p>Sybols can defined as follows:</p>"
   ]
  },
  {
   "cell_type": "code",
   "execution_count": 3,
   "id": "53d36110-7cb1-4daa-a38a-3352d0f7118c",
   "metadata": {},
   "outputs": [],
   "source": [
    "x = smp.symbols('x')"
   ]
  },
  {
   "cell_type": "code",
   "execution_count": 4,
   "id": "f70cd123-34e5-4abc-bc39-bd340b1256d2",
   "metadata": {},
   "outputs": [
    {
     "data": {
      "text/latex": [
       "$\\displaystyle x^{2}$"
      ],
      "text/plain": [
       "x**2"
      ]
     },
     "execution_count": 4,
     "metadata": {},
     "output_type": "execute_result"
    }
   ],
   "source": [
    "x**2"
   ]
  },
  {
   "cell_type": "code",
   "execution_count": 5,
   "id": "edda08e0-5ec9-4dfd-a62b-042627fc3f79",
   "metadata": {},
   "outputs": [
    {
     "data": {
      "text/latex": [
       "$\\displaystyle - x^{2} + \\sin{\\left(x \\right)}$"
      ],
      "text/plain": [
       "-x**2 + sin(x)"
      ]
     },
     "execution_count": 5,
     "metadata": {},
     "output_type": "execute_result"
    }
   ],
   "source": [
    "y = smp.sin(x)\n",
    "y-x**2"
   ]
  },
  {
   "cell_type": "markdown",
   "id": "58bc3c37-9ce6-43b6-8d97-b231163bf135",
   "metadata": {},
   "source": [
    "<p>There are many many function bulit into sympy</p>"
   ]
  },
  {
   "cell_type": "markdown",
   "id": "681178c4-a78d-4de5-aca4-f7986b3baf3c",
   "metadata": {},
   "source": [
    "smp.<p>press tap</p>"
   ]
  },
  {
   "cell_type": "markdown",
   "id": "1ec0146e-829e-4bcb-9184-8963de9ca019",
   "metadata": {},
   "source": [
    "<p>can save experssion in new variable</p>"
   ]
  },
  {
   "cell_type": "code",
   "execution_count": 6,
   "id": "6fa94fbe-a4d6-4350-8ddb-67ac3e5ae50a",
   "metadata": {},
   "outputs": [
    {
     "data": {
      "text/latex": [
       "$\\displaystyle x^{2} + 4 x + 3$"
      ],
      "text/plain": [
       "x**2 + 4*x + 3"
      ]
     },
     "execution_count": 6,
     "metadata": {},
     "output_type": "execute_result"
    }
   ],
   "source": [
    "y = x**2 +4*x +3\n",
    "y"
   ]
  },
  {
   "cell_type": "markdown",
   "id": "54996387-2a0e-4adc-82e9-9340e3f0aa53",
   "metadata": {},
   "source": [
    "<p>Do operations on the new variable</p>"
   ]
  },
  {
   "cell_type": "code",
   "execution_count": 7,
   "id": "405710ba-e361-41ca-9274-af5aad4f77d2",
   "metadata": {},
   "outputs": [
    {
     "data": {
      "text/latex": [
       "$\\displaystyle \\left(x^{2} + 4 x + 3\\right)^{2}$"
      ],
      "text/plain": [
       "(x**2 + 4*x + 3)**2"
      ]
     },
     "execution_count": 7,
     "metadata": {},
     "output_type": "execute_result"
    }
   ],
   "source": [
    "z = y**2\n",
    "z"
   ]
  },
  {
   "cell_type": "markdown",
   "id": "b036d270-3e1e-4556-8bcb-8d9a1b7f4710",
   "metadata": {},
   "source": [
    "<p>Note that is doesn't expand.There are different methods you need to call to do different with the expression</p>"
   ]
  },
  {
   "cell_type": "code",
   "execution_count": 8,
   "id": "0810ea26-3ed4-4226-9294-fdf58e0ddac6",
   "metadata": {},
   "outputs": [
    {
     "data": {
      "text/latex": [
       "$\\displaystyle \\left(x + 1\\right)^{2} \\left(x + 3\\right)^{2}$"
      ],
      "text/plain": [
       "(x + 1)**2*(x + 3)**2"
      ]
     },
     "execution_count": 8,
     "metadata": {},
     "output_type": "execute_result"
    }
   ],
   "source": [
    "z.factor()"
   ]
  },
  {
   "cell_type": "code",
   "execution_count": 9,
   "id": "994e0868-8758-4cea-9141-948f97e00732",
   "metadata": {},
   "outputs": [
    {
     "data": {
      "text/latex": [
       "$\\displaystyle x^{4} + 8 x^{3} + 22 x^{2} + 24 x + 9$"
      ],
      "text/plain": [
       "x**4 + 8*x**3 + 22*x**2 + 24*x + 9"
      ]
     },
     "execution_count": 9,
     "metadata": {},
     "output_type": "execute_result"
    }
   ],
   "source": [
    "z.expand()"
   ]
  },
  {
   "cell_type": "markdown",
   "id": "ea1ed0d6-8306-43ec-a808-75255b4ba0df",
   "metadata": {},
   "source": [
    "<p>In the notation $smp.solve(f,x)$ sympy finds the value of </p>$x $ that makes $f(x)=0$"
   ]
  },
  {
   "cell_type": "code",
   "execution_count": 10,
   "id": "d3e38544-42c5-4489-ad7d-2c56b7a22af5",
   "metadata": {},
   "outputs": [
    {
     "data": {
      "text/plain": [
       "[-3, -1]"
      ]
     },
     "execution_count": 10,
     "metadata": {},
     "output_type": "execute_result"
    }
   ],
   "source": [
    "smp.solve(z,x)"
   ]
  },
  {
   "cell_type": "code",
   "execution_count": 11,
   "id": "a5f002fe-ee78-45c1-8ec8-d40e98adc8dd",
   "metadata": {},
   "outputs": [
    {
     "data": {
      "text/plain": [
       "[0, pi]"
      ]
     },
     "execution_count": 11,
     "metadata": {},
     "output_type": "execute_result"
    }
   ],
   "source": [
    "smp.solve(smp.sin(x),x)\n"
   ]
  },
  {
   "cell_type": "markdown",
   "id": "d50717cd-5102-4742-8c69-7b9f4c2b95a7",
   "metadata": {},
   "source": [
    "<p><b>Good Pratice:</b> If you know that your variable $x$ is real (and is some cses non-negative) it's good to specify this when you define your varaiables to prevent complicated issues when solving complicated problems (expecially with integrals)</p>"
   ]
  },
  {
   "cell_type": "code",
   "execution_count": 12,
   "id": "3b95293d-44b5-4f55-888f-b888542cbd63",
   "metadata": {},
   "outputs": [
    {
     "data": {
      "text/plain": [
       "[-I, I]"
      ]
     },
     "execution_count": 12,
     "metadata": {},
     "output_type": "execute_result"
    }
   ],
   "source": [
    "x = smp.symbols('x')\n",
    "smp.solve(x**2+1,x)"
   ]
  },
  {
   "cell_type": "code",
   "execution_count": 104,
   "id": "b15aa264-804a-44e4-96ce-bd51dc5983e4",
   "metadata": {},
   "outputs": [
    {
     "ename": "SyntaxError",
     "evalue": "invalid syntax (331663535.py, line 1)",
     "output_type": "error",
     "traceback": [
      "\u001b[1;36m  Cell \u001b[1;32mIn[104], line 1\u001b[1;36m\u001b[0m\n\u001b[1;33m    x = smp.symbols('x',real=True,, positive=True)\u001b[0m\n\u001b[1;37m                                  ^\u001b[0m\n\u001b[1;31mSyntaxError\u001b[0m\u001b[1;31m:\u001b[0m invalid syntax\n"
     ]
    }
   ],
   "source": [
    "x = smp.symbols('x',real=True,, positive=True)\n",
    "smp.solve(x+4,x)"
   ]
  },
  {
   "cell_type": "markdown",
   "id": "e70a802e-317a-4271-aef4-fe1896c6b8bb",
   "metadata": {},
   "source": [
    "<p>Can define many variables at once</p>"
   ]
  },
  {
   "cell_type": "code",
   "execution_count": 18,
   "id": "50120e75-6197-4435-bf17-b258c85f613c",
   "metadata": {},
   "outputs": [
    {
     "data": {
      "text/latex": [
       "$\\displaystyle x^{2} + y \\sin{\\left(z \\right)}$"
      ],
      "text/plain": [
       "x**2 + y*sin(z)"
      ]
     },
     "execution_count": 18,
     "metadata": {},
     "output_type": "execute_result"
    }
   ],
   "source": [
    "x,y,z = smp.symbols('x y z')\n",
    "F = x**2 + smp.sin(z)*y\n",
    "F"
   ]
  },
  {
   "cell_type": "markdown",
   "id": "5b811b3b-6ee9-48df-9b2d-9a4267a2582a",
   "metadata": {},
   "source": [
    "<p>Can solve multivariable expressions, specifying which variable we want to solve for . In each case $ F=0$ is being solved for</p>"
   ]
  },
  {
   "cell_type": "code",
   "execution_count": 19,
   "id": "01370390-053f-41da-99d5-9f874aad1f7f",
   "metadata": {},
   "outputs": [
    {
     "data": {
      "text/plain": [
       "[-sqrt(-y*sin(z)), sqrt(-y*sin(z))]"
      ]
     },
     "execution_count": 19,
     "metadata": {},
     "output_type": "execute_result"
    }
   ],
   "source": [
    "x_sol = smp.solve(F,x)\n",
    "x_sol"
   ]
  },
  {
   "cell_type": "code",
   "execution_count": 20,
   "id": "6d6a916f-df4a-491a-baae-8ab9bf5a0831",
   "metadata": {},
   "outputs": [
    {
     "data": {
      "text/plain": [
       "[-x**2/sin(z)]"
      ]
     },
     "execution_count": 20,
     "metadata": {},
     "output_type": "execute_result"
    }
   ],
   "source": [
    "y_sol = smp.solve(F,y)\n",
    "y_sol"
   ]
  },
  {
   "cell_type": "code",
   "execution_count": 21,
   "id": "1a591333-70d5-46c0-bfea-6e0a7096f2f2",
   "metadata": {},
   "outputs": [
    {
     "data": {
      "text/plain": [
       "[asin(x**2/y) + pi, -asin(x**2/y)]"
      ]
     },
     "execution_count": 21,
     "metadata": {},
     "output_type": "execute_result"
    }
   ],
   "source": [
    "z_sol = smp.solve(F,z)\n",
    "z_sol"
   ]
  },
  {
   "cell_type": "markdown",
   "id": "bf0a173e-1ee1-4104-a8b8-c718a827af10",
   "metadata": {},
   "source": [
    "<p>Finally, it may be the case that one has a sympy experssion but wants to convert it into a numerical function so they can plot on computer</p>"
   ]
  },
  {
   "cell_type": "code",
   "execution_count": 22,
   "id": "b84155b5-0a02-4a0d-b5eb-18fa96c23ba0",
   "metadata": {},
   "outputs": [
    {
     "data": {
      "text/latex": [
       "$\\displaystyle \\operatorname{asin}{\\left(\\frac{x^{2}}{y} \\right)} + \\pi$"
      ],
      "text/plain": [
       "asin(x**2/y) + pi"
      ]
     },
     "execution_count": 22,
     "metadata": {},
     "output_type": "execute_result"
    }
   ],
   "source": [
    "expr = z_sol[0]\n",
    "expr"
   ]
  },
  {
   "cell_type": "code",
   "execution_count": 23,
   "id": "4b7f7604-2fd1-4af4-b972-b1fab4e4b3b0",
   "metadata": {},
   "outputs": [
    {
     "data": {
      "text/plain": [
       "3.6651914291880923"
      ]
     },
     "execution_count": 23,
     "metadata": {},
     "output_type": "execute_result"
    }
   ],
   "source": [
    "expr_f = smp.lambdify([x,y],expr)\n",
    "expr_f(1,2)"
   ]
  },
  {
   "cell_type": "code",
   "execution_count": 24,
   "id": "cd9c0c29-8913-4f0d-8a8e-9503837a3116",
   "metadata": {},
   "outputs": [
    {
     "data": {
      "text/plain": [
       "[<matplotlib.lines.Line2D at 0x1afe78bf210>]"
      ]
     },
     "execution_count": 24,
     "metadata": {},
     "output_type": "execute_result"
    },
    {
     "data": {
      "image/png": "[encoded data removed]",
      "text/plain": [
       "<Figure size 640x480 with 1 Axes>"
      ]
     },
     "metadata": {},
     "output_type": "display_data"
    }
   ],
   "source": [
    "x_num = np.linspace(0,1,100)\n",
    "y_num =2\n",
    "plt.plot(x_num,expr_f(x_num,y_num))"
   ]
  },
  {
   "cell_type": "markdown",
   "id": "8f414ca3-a401-41a6-b2d4-795f4fdedce0",
   "metadata": {},
   "source": [
    "<p>for multivariable expressions, can also substiute values in</p>"
   ]
  },
  {
   "cell_type": "code",
   "execution_count": 25,
   "id": "a34ad305-c45c-40fb-a0a9-80bccad01c00",
   "metadata": {},
   "outputs": [
    {
     "data": {
      "text/latex": [
       "$\\displaystyle x^{2} + y \\sin{\\left(z \\right)}$"
      ],
      "text/plain": [
       "x**2 + y*sin(z)"
      ]
     },
     "execution_count": 25,
     "metadata": {},
     "output_type": "execute_result"
    }
   ],
   "source": [
    "F "
   ]
  },
  {
   "cell_type": "code",
   "execution_count": 26,
   "id": "3fe76bae-bf9b-4bf9-bbf7-75cb3b184f88",
   "metadata": {},
   "outputs": [
    {
     "data": {
      "text/latex": [
       "$\\displaystyle x^{2} + 3 \\sin{\\left(\\frac{\\pi}{z} \\right)}$"
      ],
      "text/plain": [
       "x**2 + 3*sin(pi/z)"
      ]
     },
     "execution_count": 26,
     "metadata": {},
     "output_type": "execute_result"
    }
   ],
   "source": [
    "F.subs([(y,3),(z,smp.pi/z)])"
   ]
  },
  {
   "cell_type": "markdown",
   "id": "5fe1e7a2-7c67-404f-980e-c332e3430e4d",
   "metadata": {},
   "source": [
    "<h2>Examples</h2><hr><p>A falling object encounters a moving platform acclearting upward</p><br><p>1. Objects $h_0(t) = h_0 - v_0*t -1/2 *gt^2$</p>\n",
    "<p>2. Platform $h_p(t) = v_p + 1/2 * qt^2$</p>\n",
    "<b>Find the initial velocity $v_0$ such that when the object and platform collide, they are moving at the same speed</b>\n",
    "<p>We need to solve for $v_0$ and $t$ in the two equation</p>\n",
    "<p>$$1.h_0(t) = h_p(t)$$</p>\n",
    "$$2. \\frac{dh_0(t)}{dt} = -\\frac{dh_p(t)}{dt} $$\n",
    "<p> In sympy , need to contruct our system of equation as $EQ_1 = 0 $ and $EQ_2 =0$ .. in our case ,we rewrite them as </p>\n",
    "$$2. h_0(t) - h_p(t)=0$$\n",
    "$$2.\\frac{dh_0(t)}{dt} + \\frac{dh_p(t)}{dt}=0$$\n"
   ]
  },
  {
   "cell_type": "code",
   "execution_count": 27,
   "id": "af5a2ea3-a4e6-4415-a2e2-2cb7a4a3d461",
   "metadata": {},
   "outputs": [
    {
     "data": {
      "text/plain": [
       "(h_0, v_0, t, g, q)"
      ]
     },
     "execution_count": 27,
     "metadata": {},
     "output_type": "execute_result"
    }
   ],
   "source": [
    "h0 , v0 , t ,g,q,vp = smp.symbols('h_0 v_0 t g q v_p', real=True, positive=True)\n",
    "h0 , v0 ,t ,g ,q"
   ]
  },
  {
   "cell_type": "markdown",
   "id": "2745b897-3b1a-40f0-8f5d-112d3f88b312",
   "metadata": {},
   "source": [
    "<p>Defining experssion</p>"
   ]
  },
  {
   "cell_type": "code",
   "execution_count": 28,
   "id": "d85b769f-04c5-4f21-b9c2-41948d1e50f4",
   "metadata": {},
   "outputs": [],
   "source": [
    "h0t = h0 -v0*t - smp.Rational(1,2)*g*t**2\n",
    "dh0t = -g*t - v0\n",
    "hpt = vp*t + smp.Rational(1,2)*q*t**2\n",
    "dhpt = vp + q*t\n",
    "dhpt\n",
    "\n",
    "EQ1 = h0t - hpt\n",
    "EQ2 = dh0t + dhpt\n"
   ]
  },
  {
   "cell_type": "markdown",
   "id": "8f0b5c2e-7b60-48ae-a7bd-234df3f3acec",
   "metadata": {},
   "source": [
    "<p>solving equation</p>"
   ]
  },
  {
   "cell_type": "code",
   "execution_count": 29,
   "id": "882d6fbf-6c53-44fb-9ad9-254538413191",
   "metadata": {},
   "outputs": [
    {
     "data": {
      "text/latex": [
       "$\\displaystyle \\frac{v_{p} \\left(g + q\\right)}{- g + 3 q} - \\frac{\\sqrt{2} \\left(- g + q\\right) \\sqrt{- g h_{0} + 3 h_{0} q + 2 v_{p}^{2}}}{- g + 3 q}$"
      ],
      "text/plain": [
       "v_p*(g + q)/(-g + 3*q) - sqrt(2)*(-g + q)*sqrt(-g*h_0 + 3*h_0*q + 2*v_p**2)/(-g + 3*q)"
      ]
     },
     "execution_count": 29,
     "metadata": {},
     "output_type": "execute_result"
    }
   ],
   "source": [
    "t_collide , v_ifall = smp.solve([EQ1,EQ2],[t,v0])[0]# giving only one eqn since qudratic eqn have 3 root\n",
    "v_ifall\n"
   ]
  },
  {
   "cell_type": "markdown",
   "id": "ceac80a2-a48c-4f97-ab09-c67af46f16e7",
   "metadata": {},
   "source": [
    "<h5>What is the veloctiy when they collide?</h5>"
   ]
  },
  {
   "cell_type": "code",
   "execution_count": 30,
   "id": "c00bed4c-75de-4dbb-8c68-176706a7a4a3",
   "metadata": {},
   "outputs": [
    {
     "data": {
      "text/latex": [
       "$\\displaystyle \\frac{g v_{p} - q v_{p} + q \\sqrt{- 2 g h_{0} + 6 h_{0} q + 4 v_{p}^{2}}}{- g + 3 q}$"
      ],
      "text/plain": [
       "(g*v_p - q*v_p + q*sqrt(-2*g*h_0 + 6*h_0*q + 4*v_p**2))/(-g + 3*q)"
      ]
     },
     "execution_count": 30,
     "metadata": {},
     "output_type": "execute_result"
    }
   ],
   "source": [
    "dh0t.subs([(t,t_collide),(v0,v_ifall)]).simplify()\n"
   ]
  },
  {
   "cell_type": "code",
   "execution_count": 31,
   "id": "1f98baee-afc3-4aeb-b767-389434caba9d",
   "metadata": {},
   "outputs": [
    {
     "data": {
      "text/latex": [
       "$\\displaystyle \\frac{- g v_{p} + q v_{p} - q \\sqrt{- 2 g h_{0} + 6 h_{0} q + 4 v_{p}^{2}}}{- g + 3 q}$"
      ],
      "text/plain": [
       "(-g*v_p + q*v_p - q*sqrt(-2*g*h_0 + 6*h_0*q + 4*v_p**2))/(-g + 3*q)"
      ]
     },
     "execution_count": 31,
     "metadata": {},
     "output_type": "execute_result"
    }
   ],
   "source": [
    "dhpt.subs([(t,t_collide),(v0,v_ifall)]).simplify()"
   ]
  },
  {
   "cell_type": "markdown",
   "id": "b14a622b-11d6-41c2-9383-c41f2b3a9bba",
   "metadata": {},
   "source": [
    "<h2>Solve using sympy</h2>$$9x+8y=7$$ $$3x^2 +2y^2=7$$"
   ]
  },
  {
   "cell_type": "code",
   "execution_count": 32,
   "id": "31f26e9e-1218-45ed-82d7-69ba67143c55",
   "metadata": {},
   "outputs": [
    {
     "data": {
      "text/latex": [
       "$\\displaystyle \\frac{177 x^{2}}{32} - \\frac{63 x}{16} - \\frac{175}{32}$"
      ],
      "text/plain": [
       "177*x**2/32 - 63*x/16 - 175/32"
      ]
     },
     "execution_count": 32,
     "metadata": {},
     "output_type": "execute_result"
    }
   ],
   "source": [
    "x,y = smp.symbols('x y')\n",
    "eqn = 3*x**2+2*y**2-7\n",
    "y_vals = (7-9*x)/8\n",
    "Eq = eqn.subs(y,y_vals).simplify()\n",
    "x_vals = smp.solve(Eq,x)\n",
    "smp.solve(Eq,x)\n",
    "Eq"
   ]
  },
  {
   "cell_type": "markdown",
   "id": "65900840-eb87-4e99-bc28-3175895f0dcd",
   "metadata": {},
   "source": [
    "<h2>Basic Antiderivaties</h2>"
   ]
  },
  {
   "cell_type": "markdown",
   "id": "fc64bd96-dd3c-4ae0-90ef-85614dfd0b1d",
   "metadata": {},
   "source": [
    "$$\\int\\csc(x)\\cot(x) dx$$"
   ]
  },
  {
   "cell_type": "code",
   "execution_count": 33,
   "id": "ef581159-6d45-483c-9527-6fcc1ce7f21c",
   "metadata": {},
   "outputs": [
    {
     "data": {
      "text/latex": [
       "$\\displaystyle - \\frac{1}{\\sin{\\left(x \\right)}}$"
      ],
      "text/plain": [
       "-1/sin(x)"
      ]
     },
     "execution_count": 33,
     "metadata": {},
     "output_type": "execute_result"
    }
   ],
   "source": [
    "smp.integrate(smp.csc(x)*smp.cot(x),x)"
   ]
  },
  {
   "cell_type": "markdown",
   "id": "3b248ab1-70bb-4610-8594-3ec22b3cf3e5",
   "metadata": {},
   "source": [
    "$$\\int 4\\sec(3x)\\tan(3x)dx$$"
   ]
  },
  {
   "cell_type": "code",
   "execution_count": 35,
   "id": "05cd5259-1e60-48f1-944b-57426c1f8241",
   "metadata": {},
   "outputs": [
    {
     "data": {
      "text/latex": [
       "$\\displaystyle \\frac{4}{3 \\cos{\\left(3 x \\right)}}$"
      ],
      "text/plain": [
       "4/(3*cos(3*x))"
      ]
     },
     "execution_count": 35,
     "metadata": {},
     "output_type": "execute_result"
    }
   ],
   "source": [
    "smp.integrate(4*smp.sec(3*x)*smp.tan(3*x),x)"
   ]
  },
  {
   "cell_type": "markdown",
   "id": "bb95738d-fe95-4b78-a855-8bac4a468ccd",
   "metadata": {},
   "source": [
    "$$ \\int \\left(\\frac{2}{\\sqrt{1-x^2}} - \\frac{1}{x^\\frac{1}{4}} \\right)dx$$"
   ]
  },
  {
   "cell_type": "code",
   "execution_count": 38,
   "id": "28ce7d5d-bdd4-4c82-8cf9-849c3552e963",
   "metadata": {},
   "outputs": [
    {
     "data": {
      "text/latex": [
       "$\\displaystyle - \\frac{4 x^{\\frac{3}{4}}}{3} + 2 \\operatorname{asin}{\\left(x \\right)}$"
      ],
      "text/plain": [
       "-4*x**(3/4)/3 + 2*asin(x)"
      ]
     },
     "execution_count": 38,
     "metadata": {},
     "output_type": "execute_result"
    }
   ],
   "source": [
    "smp.integrate((2/smp.sqrt(1-x**2))-1/x**smp.Rational(1,4))"
   ]
  },
  {
   "cell_type": "markdown",
   "id": "e69ad773-a262-46e0-919b-cf827bf04cb2",
   "metadata": {},
   "source": [
    "<h2>Intial Value Problems</h2>"
   ]
  },
  {
   "cell_type": "markdown",
   "id": "78395c13-07c5-4b9b-90e1-46ae728d7b8c",
   "metadata": {},
   "source": [
    "1.Given $\\frac{dy}{dx} = 8x+\\csc(x)^2 $ with $y(\\frac{\\pi}{2}) = -7$ solve for $y(x)$"
   ]
  },
  {
   "cell_type": "code",
   "execution_count": 42,
   "id": "fa7bee77-b46a-4631-93db-3047baf9d34d",
   "metadata": {},
   "outputs": [
    {
     "data": {
      "text/latex": [
       "$\\displaystyle 4 x^{2} - \\frac{\\cos{\\left(x \\right)}}{\\sin{\\left(x \\right)}}$"
      ],
      "text/plain": [
       "4*x**2 - cos(x)/sin(x)"
      ]
     },
     "execution_count": 42,
     "metadata": {},
     "output_type": "execute_result"
    }
   ],
   "source": [
    "integral = smp.integrate(8*x+smp.csc(x)**2,x)\n",
    "integral"
   ]
  },
  {
   "cell_type": "code",
   "execution_count": 47,
   "id": "f70276d8-c2c9-4714-94bc-48aadc249ce5",
   "metadata": {},
   "outputs": [
    {
     "data": {
      "text/latex": [
       "$\\displaystyle - \\pi^{2} - 7$"
      ],
      "text/plain": [
       "-pi**2 - 7"
      ]
     },
     "execution_count": 47,
     "metadata": {},
     "output_type": "execute_result"
    }
   ],
   "source": [
    "c = -integral.subs(x,smp.pi/2) -7\n",
    "c"
   ]
  },
  {
   "cell_type": "code",
   "execution_count": 51,
   "id": "bedbb3c3-51b3-430a-b848-7f8f3b7ff6fb",
   "metadata": {},
   "outputs": [],
   "source": [
    "y = integral+c"
   ]
  },
  {
   "cell_type": "markdown",
   "id": "e6fe77c4-664b-4eee-9b8a-1499b5e51d9a",
   "metadata": {},
   "source": [
    "<h2>More Complicated Expression</h2>"
   ]
  },
  {
   "cell_type": "markdown",
   "id": "0d5989f9-2fad-46e2-9077-c5746cf85bae",
   "metadata": {},
   "source": [
    "$$ \\int \\frac{(1+\\sqrt{x})^\\frac{1}{3}}{\\sqrt{x}}dx $$"
   ]
  },
  {
   "cell_type": "code",
   "execution_count": 53,
   "id": "a07038d8-2ceb-4f82-814c-a10586c745f4",
   "metadata": {},
   "outputs": [
    {
     "data": {
      "text/latex": [
       "$\\displaystyle \\frac{3 \\sqrt{x} \\sqrt[3]{\\sqrt{x} + 1}}{2} + \\frac{3 \\sqrt[3]{\\sqrt{x} + 1}}{2}$"
      ],
      "text/plain": [
       "3*sqrt(x)*(sqrt(x) + 1)**(1/3)/2 + 3*(sqrt(x) + 1)**(1/3)/2"
      ]
     },
     "execution_count": 53,
     "metadata": {},
     "output_type": "execute_result"
    }
   ],
   "source": [
    "smp.integrate((1+smp.sqrt(x))**smp.Rational(1,3)/smp.sqrt(x),x)"
   ]
  },
  {
   "cell_type": "markdown",
   "id": "f0d97dbd-6e2e-4cd2-b672-6378bf2c3f15",
   "metadata": {},
   "source": [
    "$$\\int x(1-x^2)^\\frac{1}{4} dx$$"
   ]
  },
  {
   "cell_type": "code",
   "execution_count": 56,
   "id": "65849de0-8bee-45f7-b68a-9de316095d18",
   "metadata": {},
   "outputs": [
    {
     "data": {
      "text/latex": [
       "$\\displaystyle \\frac{2 x^{2} \\sqrt[4]{1 - x^{2}}}{5} - \\frac{2 \\sqrt[4]{1 - x^{2}}}{5}$"
      ],
      "text/plain": [
       "2*x**2*(1 - x**2)**(1/4)/5 - 2*(1 - x**2)**(1/4)/5"
      ]
     },
     "execution_count": 56,
     "metadata": {},
     "output_type": "execute_result"
    }
   ],
   "source": [
    "smp.integrate(x*(1-x**2)**smp.Rational(1,4))"
   ]
  },
  {
   "cell_type": "markdown",
   "id": "33cb85f5-085e-4f4b-876a-6e3893e7fcc5",
   "metadata": {},
   "source": [
    "$$ \\int \\frac{(2x-1)\\cos(\\sqrt{3(2x-1)^2+6}}{\\sqrt{3(2x-1)^2+6}}dx$$"
   ]
  },
  {
   "cell_type": "code",
   "execution_count": 66,
   "id": "0d32b10c-cd26-4a15-8bbd-43fe28c41667",
   "metadata": {},
   "outputs": [
    {
     "data": {
      "text/latex": [
       "$\\displaystyle \\frac{\\sin{\\left(\\sqrt{3 \\left(2 x - 1\\right)^{2} + 6} \\right)}}{6}$"
      ],
      "text/plain": [
       "sin(sqrt(3*(2*x - 1)**2 + 6))/6"
      ]
     },
     "execution_count": 66,
     "metadata": {},
     "output_type": "execute_result"
    }
   ],
   "source": [
    "smp.integrate((2*x-1)*smp.cos(smp.sqrt(3*(2*x-1)**2+6))/smp.sqrt(3*(2*x-1)**2+6),x)"
   ]
  },
  {
   "cell_type": "markdown",
   "id": "9573aa70-8041-4787-8fc3-0e9e44546830",
   "metadata": {},
   "source": [
    "<h2>Definite Integrals</h2>"
   ]
  },
  {
   "cell_type": "markdown",
   "id": "f6401bf4-560c-4633-958a-89f851448c6b",
   "metadata": {},
   "source": [
    "$$\\int_{0}^{\\ln{4}} \\frac{e^x}{\\sqrt{e^{2x}+9}}dx$$"
   ]
  },
  {
   "cell_type": "code",
   "execution_count": 74,
   "id": "880cfc1d-2ae0-40c1-9505-27e142871aef",
   "metadata": {},
   "outputs": [
    {
     "data": {
      "text/latex": [
       "$\\displaystyle - \\operatorname{asinh}{\\left(\\frac{1}{3} \\right)} + \\operatorname{asinh}{\\left(\\frac{4}{3} \\right)}$"
      ],
      "text/plain": [
       "-asinh(1/3) + asinh(4/3)"
      ]
     },
     "execution_count": 74,
     "metadata": {},
     "output_type": "execute_result"
    }
   ],
   "source": [
    "smp.integrate(smp.exp(x)/smp.sqrt(smp.exp((2*x))+9),(x,0,smp.log(4)))"
   ]
  },
  {
   "cell_type": "markdown",
   "id": "e6acfd49-8d2a-417d-9ca6-f334643af9d6",
   "metadata": {},
   "source": [
    "$$\\int_{1}^{t} x^{10} e^x dx$$"
   ]
  },
  {
   "cell_type": "code",
   "execution_count": 78,
   "id": "b87946e1-0619-43fb-bf61-a32285027c80",
   "metadata": {},
   "outputs": [
    {
     "data": {
      "text/latex": [
       "$\\displaystyle \\left(t^{10} - 10 t^{9} + 90 t^{8} - 720 t^{7} + 5040 t^{6} - 30240 t^{5} + 151200 t^{4} - 604800 t^{3} + 1814400 t^{2} - 3628800 t + 3628800\\right) e^{t} - 1334961 e$"
      ],
      "text/plain": [
       "(t**10 - 10*t**9 + 90*t**8 - 720*t**7 + 5040*t**6 - 30240*t**5 + 151200*t**4 - 604800*t**3 + 1814400*t**2 - 3628800*t + 3628800)*exp(t) - 1334961*E"
      ]
     },
     "execution_count": 78,
     "metadata": {},
     "output_type": "execute_result"
    }
   ],
   "source": [
    "smp.integrate(x**10*smp.exp(x),(x,1,t))"
   ]
  },
  {
   "cell_type": "markdown",
   "id": "09347231-92c8-4a16-94a6-deb2bdb8344c",
   "metadata": {},
   "source": [
    "<h2>Improper Integrals</h2>"
   ]
  },
  {
   "cell_type": "markdown",
   "id": "f09f999c-18b8-4f03-9f5c-a49b621a4cf4",
   "metadata": {},
   "source": [
    "$$\\int_{0}^{\\infty}\\frac{16\\tan^{-1}(x)}{1+x^2}dx$$"
   ]
  },
  {
   "cell_type": "code",
   "execution_count": 82,
   "id": "69a8ba53-f22d-4a34-9c0b-ff6b0654fe9d",
   "metadata": {},
   "outputs": [
    {
     "data": {
      "text/latex": [
       "$\\displaystyle 2 \\pi^{2}$"
      ],
      "text/plain": [
       "2*pi**2"
      ]
     },
     "execution_count": 82,
     "metadata": {},
     "output_type": "execute_result"
    }
   ],
   "source": [
    "smp.integrate(16*smp.atan(x)/(1+x**2),(x,0,smp.oo))"
   ]
  },
  {
   "cell_type": "markdown",
   "id": "c9b3f570-4a50-4d6a-bef0-f5c2f0d7a2cc",
   "metadata": {},
   "source": [
    "<h2>Sequences and Series</h2>"
   ]
  },
  {
   "cell_type": "code",
   "execution_count": 83,
   "id": "cb1cf943-74a9-4c16-a695-ce35e905d5aa",
   "metadata": {},
   "outputs": [],
   "source": [
    "n = smp.symbols('n')"
   ]
  },
  {
   "cell_type": "markdown",
   "id": "52bcc047-c0d9-40b8-a2a7-1a051c7f6309",
   "metadata": {},
   "source": [
    "$$ \\sum_{n=0}^{\\infty}\\frac{6}{4^n} $$"
   ]
  },
  {
   "cell_type": "code",
   "execution_count": 87,
   "id": "53d0ad3d-6d47-45e7-a630-c53f107de448",
   "metadata": {},
   "outputs": [
    {
     "data": {
      "text/latex": [
       "$\\displaystyle 8$"
      ],
      "text/plain": [
       "8"
      ]
     },
     "execution_count": 87,
     "metadata": {},
     "output_type": "execute_result"
    }
   ],
   "source": [
    "smp.Sum(6/4**n,(n,0,smp.oo)).doit()"
   ]
  },
  {
   "cell_type": "markdown",
   "id": "d619ae33-d96f-40d9-b682-4e7d9630ff88",
   "metadata": {},
   "source": [
    "$$ \\sum_{n=0}^{\\infty} \\frac{2^{n+1}}{5^n}$$"
   ]
  },
  {
   "cell_type": "code",
   "execution_count": 90,
   "id": "6debceda-4660-4c10-acc2-453f9c3443f1",
   "metadata": {},
   "outputs": [
    {
     "data": {
      "text/latex": [
       "$\\displaystyle \\frac{10}{3}$"
      ],
      "text/plain": [
       "10/3"
      ]
     },
     "execution_count": 90,
     "metadata": {},
     "output_type": "execute_result"
    }
   ],
   "source": [
    "smp.Sum(2**(n+1)/5**n,(n,0,smp.oo)).doit()"
   ]
  },
  {
   "cell_type": "markdown",
   "id": "6ac22f68-c2b6-4e79-bf13-ccb95cfeb833",
   "metadata": {},
   "source": [
    "$$ \\sum_{n=1}^{\\infty}\\frac{\\tan^{-1}(n)}{n^{1.1}}$$"
   ]
  },
  {
   "cell_type": "code",
   "execution_count": 95,
   "id": "eb11ba40-69e2-49cd-a159-6a2d39679541",
   "metadata": {},
   "outputs": [
    {
     "data": {
      "text/latex": [
       "$\\displaystyle 15.3028821020457$"
      ],
      "text/plain": [
       "15.3028821020457"
      ]
     },
     "execution_count": 95,
     "metadata": {},
     "output_type": "execute_result"
    }
   ],
   "source": [
    "smp.Sum(smp.atan(n)/n**smp.Rational(11,10),(n,1,smp.oo)).n()"
   ]
  },
  {
   "cell_type": "markdown",
   "id": "1481d0d2-b96d-4a0f-8aa6-5a911b07754e",
   "metadata": {},
   "source": [
    "$$ \\sum_{n=1}^{\\infty} \\frac{1+\\cos(n)}{n} $$"
   ]
  },
  {
   "cell_type": "code",
   "execution_count": 97,
   "id": "c9767df5-e121-4436-b02e-c3d14b31ced1",
   "metadata": {},
   "outputs": [
    {
     "data": {
      "text/latex": [
       "$\\displaystyle 3.0 \\cdot 10^{2}$"
      ],
      "text/plain": [
       "0.e+2"
      ]
     },
     "execution_count": 97,
     "metadata": {},
     "output_type": "execute_result"
    }
   ],
   "source": [
    "smp.Sum((1+smp.cos(n))/n,(n,1,smp.oo)).n()"
   ]
  },
  {
   "cell_type": "raw",
   "id": "9d7caf5d-9876-4da6-ac6e-66b7123fb0b5",
   "metadata": {},
   "source": [
    "here this sum is divergence"
   ]
  },
  {
   "cell_type": "markdown",
   "id": "e65fa117-021b-4489-b5f9-d893f5477f85",
   "metadata": {},
   "source": [
    "$$ \\sum_{n=1}^{\\infty} \\frac{1+\\cos(n)}{n^2} $$"
   ]
  },
  {
   "cell_type": "code",
   "execution_count": 103,
   "id": "a5f4cdf2-ed92-4dd3-946a-8a9818240671",
   "metadata": {},
   "outputs": [
    {
     "data": {
      "text/latex": [
       "$\\displaystyle 1.969$"
      ],
      "text/plain": [
       "1.969"
      ]
     },
     "execution_count": 103,
     "metadata": {},
     "output_type": "execute_result"
    }
   ],
   "source": [
    "smp.Sum((1+smp.cos(n))/n**2,(n,1,smp.oo)).n()"
   ]
  }
 ],
 "metadata": {
  "kernelspec": {
   "display_name": "Python 3 (ipykernel)",
   "language": "python",
   "name": "python3"
  },
  "language_info": {
   "codemirror_mode": {
    "name": "ipython",
    "version": 3
   },
   "file_extension": ".py",
   "mimetype": "text/x-python",
   "name": "python",
   "nbconvert_exporter": "python",
   "pygments_lexer": "ipython3",
   "version": "3.11.2"
  }
 },
 "nbformat": 4,
 "nbformat_minor": 5
}
