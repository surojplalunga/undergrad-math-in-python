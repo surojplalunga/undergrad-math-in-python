{
 "cells": [
  {
   "cell_type": "markdown",
   "id": "5827e6ed-0704-404b-bdac-20dd8e5d5a97",
   "metadata": {},
   "source": [
    "<h2>Advance calculus </h2>"
   ]
  },
  {
   "cell_type": "code",
   "execution_count": 2,
   "id": "90ba8fa1-f477-4947-8030-86fe67945852",
   "metadata": {},
   "outputs": [],
   "source": [
    "import numpy as np\n",
    "import sympy as smp\n",
    "from sympy.vector import*\n",
    "import matplotlib.pyplot as plt\n",
    "from scipy.integrate import quad\n",
    "from scipy.integrate import quad_vec\n"
   ]
  },
  {
   "cell_type": "code",
   "execution_count": 3,
   "id": "eaf7bf07-a90b-4f7b-a08f-2757e87b723a",
   "metadata": {},
   "outputs": [],
   "source": [
    "x,y,z,u1,u2,u3,v1,v2,v3,t = smp.symbols('x y z u_1 u_2 u_3 v_1 v_2 v_3 t')\n"
   ]
  },
  {
   "cell_type": "markdown",
   "id": "974ae749-8449-4483-bd19-3b105261137e",
   "metadata": {},
   "source": [
    "<h2>Vectors and Geometry</h2>"
   ]
  },
  {
   "cell_type": "markdown",
   "id": "69202493-8040-47dc-9f39-77b3c3886ed9",
   "metadata": {},
   "source": [
    "<p> Numerical or Symbolic </p> "
   ]
  },
  {
   "cell_type": "code",
   "execution_count": 4,
   "id": "cfabb3a2-c842-4412-a69c-a8da2f3d06ef",
   "metadata": {},
   "outputs": [],
   "source": [
    "a = np.array([1,2,3])\n",
    "b = np.array([7,8,9])\n",
    "u = smp.Matrix([u1, u2, u3])\n",
    "v = smp.Matrix([v1, v2, v3])"
   ]
  },
  {
   "cell_type": "code",
   "execution_count": 5,
   "id": "b2d13638-93bd-4505-965b-6977d7a44932",
   "metadata": {},
   "outputs": [
    {
     "ename": "NameError",
     "evalue": "name 'uv' is not defined",
     "output_type": "error",
     "traceback": [
      "\u001b[1;31m---------------------------------------------------------------------------\u001b[0m",
      "\u001b[1;31mNameError\u001b[0m                                 Traceback (most recent call last)",
      "Cell \u001b[1;32mIn[5], line 1\u001b[0m\n\u001b[1;32m----> 1\u001b[0m \u001b[43muv\u001b[49m\n",
      "\u001b[1;31mNameError\u001b[0m: name 'uv' is not defined"
     ]
    }
   ],
   "source": [
    "uv"
   ]
  },
  {
   "cell_type": "markdown",
   "id": "802a1141-0392-43a0-9100-8cc94e1fe2e0",
   "metadata": {},
   "source": [
    "<h2>Addition and  multiplication</h2>"
   ]
  },
  {
   "cell_type": "code",
   "execution_count": null,
   "id": "7e93f26a-cf9c-4e75-811d-29ff73b1f61f",
   "metadata": {},
   "outputs": [],
   "source": [
    "2*a+b"
   ]
  },
  {
   "cell_type": "code",
   "execution_count": null,
   "id": "b7fcf90c-f324-4d96-a23a-e8934b50dbf5",
   "metadata": {},
   "outputs": [],
   "source": [
    "2*u+v"
   ]
  },
  {
   "cell_type": "markdown",
   "id": "78fecd59-2305-4412-a3e3-4db0a434ef0a",
   "metadata": {},
   "source": [
    "<h2>Dot product</h2>\n"
   ]
  },
  {
   "cell_type": "code",
   "execution_count": null,
   "id": "82f5b1ca-735b-4153-840b-d996725abac4",
   "metadata": {},
   "outputs": [],
   "source": [
    "np.dot(a,b)"
   ]
  },
  {
   "cell_type": "code",
   "execution_count": null,
   "id": "4d7fd995-ab20-4c24-b7db-6d050c212e63",
   "metadata": {},
   "outputs": [],
   "source": [
    "u.dot(v)"
   ]
  },
  {
   "cell_type": "markdown",
   "id": "3c92acf1-10cb-4a48-8858-cdcc26e65ca7",
   "metadata": {},
   "source": [
    "<h2>Cross product</h2>"
   ]
  },
  {
   "cell_type": "code",
   "execution_count": null,
   "id": "3f77516c-fa91-4fd1-bb21-749e9730600d",
   "metadata": {},
   "outputs": [],
   "source": [
    "np.cross(a,b)"
   ]
  },
  {
   "cell_type": "code",
   "execution_count": null,
   "id": "4cefb9ea-764a-428d-940f-6a12d46f9a41",
   "metadata": {},
   "outputs": [],
   "source": [
    "u.cross(v)"
   ]
  },
  {
   "cell_type": "markdown",
   "id": "5f6d9b48-091b-4c1a-ba82-80eaa26bcbfd",
   "metadata": {},
   "source": [
    "<h2>Length of vector</h2>"
   ]
  },
  {
   "cell_type": "code",
   "execution_count": null,
   "id": "f223decd-e2f9-40a6-8991-72879c967c2d",
   "metadata": {},
   "outputs": [],
   "source": [
    "np.linalg.norm(a)"
   ]
  },
  {
   "cell_type": "code",
   "execution_count": null,
   "id": "e1cc657c-bda1-4420-a1bd-e4f000d5d190",
   "metadata": {},
   "outputs": [],
   "source": [
    "u.norm()"
   ]
  },
  {
   "cell_type": "markdown",
   "id": "74d8f7c2-7176-497d-8fb2-78fbc7f70a23",
   "metadata": {},
   "source": [
    "<h2>Vector Projection</h2><hr><p>$proj_v(u) = \\frac{\\vec u \\cdot \\vec v}{|\\vec v|^2} \\vec v$</p>"
   ]
  },
  {
   "cell_type": "code",
   "execution_count": null,
   "id": "31c5dc1c-3b90-44d1-ac0b-23e20dfb7083",
   "metadata": {},
   "outputs": [],
   "source": [
    "proj_b_a = np.dot(a,b)/np.linalg.norm(b)**2 *b\n",
    "proj_b_a"
   ]
  },
  {
   "cell_type": "code",
   "execution_count": null,
   "id": "2baac76c-7529-4e5b-98a3-2408714c96ca",
   "metadata": {},
   "outputs": [],
   "source": [
    "proj_v_u = u.dot(v)/v.norm()**2 * v\n",
    "proj_v_u"
   ]
  },
  {
   "cell_type": "markdown",
   "id": "3ee203f3-2741-4dbd-9af8-6c5dd5123140",
   "metadata": {},
   "source": [
    "<h2>Lines/Planes in Space</h2>\n",
    "<p>Lines: $\\vec r(t) = \\vec r_o + t \\vec v$</p>"
   ]
  },
  {
   "cell_type": "code",
   "execution_count": null,
   "id": "63f77ed7-e007-40b7-b678-9315894c5c3a",
   "metadata": {},
   "outputs": [],
   "source": [
    "r0 = smp.Matrix([1,1,1])\n",
    "v = smp.Matrix([1,3,-1])\n",
    "r = r0 + v*t\n",
    "r"
   ]
  },
  {
   "cell_type": "markdown",
   "id": "aceade07-1753-4d31-b6e3-d55e38ef4a84",
   "metadata": {},
   "source": [
    "<p>Planes: $ \\vec n \\cdot (P_o -<x,y,z>)=0$</p>"
   ]
  },
  {
   "cell_type": "code",
   "execution_count": 6,
   "id": "728fcb64-a823-4527-bdf0-15267aa25986",
   "metadata": {},
   "outputs": [
    {
     "data": {
      "text/latex": [
       "$\\displaystyle - x - y - z + 16$"
      ],
      "text/plain": [
       "-x - y - z + 16"
      ]
     },
     "execution_count": 6,
     "metadata": {},
     "output_type": "execute_result"
    }
   ],
   "source": [
    "P0 = smp.Matrix([4,4,8])\n",
    "r = smp.Matrix([x,y,z])\n",
    "n = smp.Matrix([1,1,1])\n",
    "n.dot(P0-r)"
   ]
  },
  {
   "cell_type": "markdown",
   "id": "b016059f-773c-4451-bc2f-5ec4eb778e56",
   "metadata": {},
   "source": [
    "<p><b>Examples</b>Find vector parallel to the line of intersection of the two planes 3x-6y-2z=15 and 2x+y-2z=5(it's going to be perpendicular to both the normal vector of the intersection plane</p>\n"
   ]
  },
  {
   "cell_type": "code",
   "execution_count": 7,
   "id": "50672462-c18b-4135-bb33-6dadf71427c4",
   "metadata": {},
   "outputs": [
    {
     "data": {
      "text/plain": [
       "array([14,  2, 15])"
      ]
     },
     "execution_count": 7,
     "metadata": {},
     "output_type": "execute_result"
    }
   ],
   "source": [
    "n1 = np.array([3,-6,-2])\n",
    "n2 = np.array([2,1,-2])\n",
    "ans = np.cross(n1,n2)\n",
    "ans"
   ]
  },
  {
   "cell_type": "markdown",
   "id": "bd2dac2b-456c-440f-819c-b7a8ace20b13",
   "metadata": {},
   "source": [
    "<h2>Vecor Calculus</h2>"
   ]
  },
  {
   "cell_type": "markdown",
   "id": "3ed6e5b7-9330-4a24-9ff2-1ca37a2b8ca7",
   "metadata": {},
   "source": [
    "<h3>Vector Derivatives </h3>"
   ]
  },
  {
   "cell_type": "code",
   "execution_count": 8,
   "id": "ae37a575-8613-4784-8f6c-336abb2039d4",
   "metadata": {},
   "outputs": [
    {
     "data": {
      "text/latex": [
       "$\\displaystyle \\left[\\begin{matrix}0\\\\- \\sin{\\left(t \\right)}\\\\2\\end{matrix}\\right]$"
      ],
      "text/plain": [
       "Matrix([\n",
       "[      0],\n",
       "[-sin(t)],\n",
       "[      2]])"
      ]
     },
     "execution_count": 8,
     "metadata": {},
     "output_type": "execute_result"
    }
   ],
   "source": [
    "r = smp.Matrix([3*t,smp.sin(t),t**2])\n",
    "r_d = smp.diff(r,t)\n",
    "r_dd = smp.diff(r_d,t)\n",
    "r_dd"
   ]
  },
  {
   "cell_type": "markdown",
   "id": "f8c11d62-af3e-4311-abf6-49e56aded55c",
   "metadata": {},
   "source": [
    "<p><b>Example</p>Find the angle between the velocity and accleration as a function of time $\\theta(t)$.</p>"
   ]
  },
  {
   "cell_type": "markdown",
   "id": "684518a1-9d89-4c26-8e55-afed2765ff9d",
   "metadata": {},
   "source": [
    "<p>Angle between two vector:$\\cos\\theta = \\frac{\\vec v \\cdot \\vec u}{|\\vec u \\vec v|}$ </p>"
   ]
  },
  {
   "cell_type": "code",
   "execution_count": 9,
   "id": "01259443-0795-4ec9-b916-3f87531be9b2",
   "metadata": {},
   "outputs": [
    {
     "data": {
      "text/latex": [
       "$\\displaystyle 0.251108015692338$"
      ],
      "text/plain": [
       "0.251108015692338"
      ]
     },
     "execution_count": 9,
     "metadata": {},
     "output_type": "execute_result"
    }
   ],
   "source": [
    "cos_theta = r_d.dot(r_dd)/(r_d.norm()*r_dd.norm())\n",
    "theta = smp.acos(cos_theta).simplify()\n",
    "theta.subs(t,6).evalf()"
   ]
  },
  {
   "cell_type": "code",
   "execution_count": 10,
   "id": "5059771b-c8f5-486d-82f4-543d4ebf37cc",
   "metadata": {},
   "outputs": [
    {
     "data": {
      "image/png": "[encoded data removed]",
      "text/plain": [
       "<Figure size 640x480 with 1 Axes>"
      ]
     },
     "metadata": {},
     "output_type": "display_data"
    }
   ],
   "source": [
    "tt = np.linspace(0,10,100)\n",
    "theta_f = smp.lambdify([t],theta)(tt)\n",
    "plt.plot(tt,theta_f)\n",
    "plt.xlabel('$t$',fontsize=20)\n",
    "plt.ylabel(r'$\\theta(t)$',fontsize=20)\n",
    "plt.show()"
   ]
  },
  {
   "cell_type": "markdown",
   "id": "2016b0ac-f814-4e5b-a214-ed07262d4f25",
   "metadata": {},
   "source": [
    "<h2>Vector Integrals</h2>"
   ]
  },
  {
   "cell_type": "markdown",
   "id": "16ba4110-18e5-441b-96a2-792d25094866",
   "metadata": {},
   "source": [
    "<p>Note: Will not add the +C</p>"
   ]
  },
  {
   "cell_type": "code",
   "execution_count": 11,
   "id": "20f5fb3c-3d04-4d78-a359-bf5b2e52d62f",
   "metadata": {},
   "outputs": [
    {
     "data": {
      "text/latex": [
       "$\\displaystyle \\left[\\begin{matrix}e^{t} \\cos{\\left(t \\right)}\\\\t^{4}\\\\\\frac{1}{t^{2} + 1}\\end{matrix}\\right]$"
      ],
      "text/plain": [
       "Matrix([\n",
       "[exp(t)*cos(t)],\n",
       "[         t**4],\n",
       "[ 1/(t**2 + 1)]])"
      ]
     },
     "execution_count": 11,
     "metadata": {},
     "output_type": "execute_result"
    }
   ],
   "source": [
    "r = smp.Matrix([smp.exp(t)*smp.cos(t), t**4, 1/(1+t**2)])\n",
    "r"
   ]
  },
  {
   "cell_type": "code",
   "execution_count": 12,
   "id": "cffc3ad9-9728-4317-9a5c-2f022b167b98",
   "metadata": {},
   "outputs": [
    {
     "data": {
      "text/latex": [
       "$\\displaystyle \\left[\\begin{matrix}\\frac{e^{t} \\sin{\\left(t \\right)}}{2} + \\frac{e^{t} \\cos{\\left(t \\right)}}{2}\\\\\\frac{t^{5}}{5}\\\\\\operatorname{atan}{\\left(t \\right)}\\end{matrix}\\right]$"
      ],
      "text/plain": [
       "Matrix([\n",
       "[exp(t)*sin(t)/2 + exp(t)*cos(t)/2],\n",
       "[                           t**5/5],\n",
       "[                          atan(t)]])"
      ]
     },
     "execution_count": 12,
     "metadata": {},
     "output_type": "execute_result"
    }
   ],
   "source": [
    "smp.integrate(r,t).doit()"
   ]
  },
  {
   "cell_type": "markdown",
   "id": "5484f15b-5213-4924-bf76-e9319559039e",
   "metadata": {},
   "source": [
    "<p> In some cases intergal cannot be evaluated symolically: must solve definite integrals numerically</p>"
   ]
  },
  {
   "cell_type": "code",
   "execution_count": 13,
   "id": "d173fecf-7f18-4c00-ab31-5b02ad9430f5",
   "metadata": {},
   "outputs": [
    {
     "data": {
      "text/latex": [
       "$\\displaystyle \\left[\\begin{matrix}e^{t^{2}} \\cos^{3}{\\left(t \\right)}\\\\e^{- t^{4}}\\\\\\frac{1}{t^{2} + 3}\\end{matrix}\\right]$"
      ],
      "text/plain": [
       "Matrix([\n",
       "[exp(t**2)*cos(t)**3],\n",
       "[         exp(-t**4)],\n",
       "[       1/(t**2 + 3)]])"
      ]
     },
     "execution_count": 13,
     "metadata": {},
     "output_type": "execute_result"
    }
   ],
   "source": [
    "r = smp.Matrix([smp.exp(t**2)*smp.cos(t)**3, smp.exp(-t**4),1/(3+t**2)])\n",
    "r"
   ]
  },
  {
   "cell_type": "code",
   "execution_count": 14,
   "id": "98b4ee30-9d58-4839-9f77-aa20bc1f19b2",
   "metadata": {},
   "outputs": [
    {
     "data": {
      "text/latex": [
       "$\\displaystyle \\left[\\begin{matrix}\\int e^{t^{2}} \\cos^{3}{\\left(t \\right)}\\, dt\\\\\\frac{\\Gamma\\left(\\frac{1}{4}\\right) \\gamma\\left(\\frac{1}{4}, t^{4}\\right)}{16 \\Gamma\\left(\\frac{5}{4}\\right)}\\\\\\frac{\\sqrt{3} \\operatorname{atan}{\\left(\\frac{\\sqrt{3} t}{3} \\right)}}{3}\\end{matrix}\\right]$"
      ],
      "text/plain": [
       "Matrix([\n",
       "[                Integral(exp(t**2)*cos(t)**3, t)],\n",
       "[gamma(1/4)*lowergamma(1/4, t**4)/(16*gamma(5/4))],\n",
       "[                     sqrt(3)*atan(sqrt(3)*t/3)/3]])"
      ]
     },
     "execution_count": 14,
     "metadata": {},
     "output_type": "execute_result"
    }
   ],
   "source": [
    "smp.integrate(r,t).doit()"
   ]
  },
  {
   "cell_type": "markdown",
   "id": "d214a911-e247-4e84-86d4-1cfcd54a5111",
   "metadata": {},
   "source": [
    "<p>Integrate from t=0 to t=4</p>"
   ]
  },
  {
   "cell_type": "code",
   "execution_count": 15,
   "id": "69a2d11c-a3b1-40fd-b79e-b01ec8450452",
   "metadata": {},
   "outputs": [
    {
     "data": {
      "text/plain": [
       "array([[1.        ],\n",
       "       [1.        ],\n",
       "       [0.33333333]])"
      ]
     },
     "execution_count": 15,
     "metadata": {},
     "output_type": "execute_result"
    }
   ],
   "source": [
    "r_num = smp.lambdify(t,r)\n",
    "r_num(0)"
   ]
  },
  {
   "cell_type": "code",
   "execution_count": 16,
   "id": "b0d8f363-cd79-4047-af1f-3c2b0fa7aa32",
   "metadata": {},
   "outputs": [
    {
     "data": {
      "text/plain": [
       "array([[-4.83559254e+05],\n",
       "       [ 9.06402477e-01],\n",
       "       [ 6.70972506e-01]])"
      ]
     },
     "execution_count": 16,
     "metadata": {},
     "output_type": "execute_result"
    }
   ],
   "source": [
    "quad_vec(r_num,0,4)[0]"
   ]
  },
  {
   "cell_type": "markdown",
   "id": "d4b13fc3-5e7c-444c-a729-5717b587890d",
   "metadata": {},
   "source": [
    "<h2>Arc length</p>"
   ]
  },
  {
   "cell_type": "markdown",
   "id": "f4509753-8492-4d47-b856-d6c0cafe7f17",
   "metadata": {},
   "source": [
    "$$ L = \\int_{a}^{b} \\sqrt{dx^2+dy^2+dz^2}$$\n",
    "$$ L = \\int_{a}^{b} \\sqrt{\\left (\\frac{dx}{dt} \\right)^2+\\left( \\frac{dy}{dt}\\right)^2+ \\left (\\frac{dz}{dt}\\right)^2} dt$$"
   ]
  },
  {
   "cell_type": "markdown",
   "id": "f426fa80-c77b-481d-b7b0-2872fe964eae",
   "metadata": {},
   "source": [
    "<p>Rare cases can be done symbolically.find arclength of $<{0,t,t^2}>$ from t= 0 to t=1</p>"
   ]
  },
  {
   "cell_type": "code",
   "execution_count": 28,
   "id": "3cdbdf29-afdc-4e2c-a51a-f9f7e715e64c",
   "metadata": {},
   "outputs": [
    {
     "data": {
      "text/latex": [
       "$\\displaystyle 1.4789428575446$"
      ],
      "text/plain": [
       "1.47894285754460"
      ]
     },
     "execution_count": 28,
     "metadata": {},
     "output_type": "execute_result"
    }
   ],
   "source": [
    "smp.integrate(smp.diff(smp.Matrix([0,t,t**2]),t).norm(),(t,0,1)).n()"
   ]
  },
  {
   "cell_type": "code",
   "execution_count": 26,
   "id": "125a4016-de1d-43bc-bb1a-ecbf1d425f13",
   "metadata": {},
   "outputs": [
    {
     "data": {
      "text/latex": [
       "$\\displaystyle \\sqrt{4 \\left|{t}\\right|^{2} + 1}$"
      ],
      "text/plain": [
       "sqrt(4*Abs(t)**2 + 1)"
      ]
     },
     "execution_count": 26,
     "metadata": {},
     "output_type": "execute_result"
    }
   ],
   "source": [
    "smp.diff(smp.Matrix([0,t,t**2])).norm()"
   ]
  },
  {
   "cell_type": "markdown",
   "id": "7a18c2b0-cbe0-40e0-a5a4-6e8234a71fb6",
   "metadata": {},
   "source": [
    "<p>In most cases needs to be done numerically. find arclength of $<e^t,\\sin(t),t^4>$4 from t =0 to t=1</p>"
   ]
  },
  {
   "cell_type": "code",
   "execution_count": 34,
   "id": "095a7973-20a2-4a87-994f-380b0d254104",
   "metadata": {},
   "outputs": [
    {
     "data": {
      "text/latex": [
       "$\\displaystyle 2.31697714644486$"
      ],
      "text/plain": [
       "2.31697714644486"
      ]
     },
     "execution_count": 34,
     "metadata": {},
     "output_type": "execute_result"
    }
   ],
   "source": [
    "smp.integrate(smp.diff(smp.Matrix([smp.exp(t),smp.sin(t),t**4]),t).norm(),(t,0,1)).n()"
   ]
  },
  {
   "cell_type": "code",
   "execution_count": 39,
   "id": "b82c9711-a502-465d-8377-23ccebd6b13e",
   "metadata": {},
   "outputs": [
    {
     "data": {
      "text/plain": [
       "2.316977146444862"
      ]
     },
     "execution_count": 39,
     "metadata": {},
     "output_type": "execute_result"
    }
   ],
   "source": [
    "r = smp.Matrix([smp.exp(t),smp.sin(t),t**4])\n",
    "r_dnum = smp.lambdify(t,smp.diff(r,t).norm())\n",
    "quad(r_dnum,0,1)[0]"
   ]
  },
  {
   "cell_type": "markdown",
   "id": "fc4b8024-d6ee-4aa8-b7e4-ec85167ab5dc",
   "metadata": {},
   "source": [
    "<h2>Other relavent Quantities</h2>\n",
    "<p>if $ds=\\sqrt{dx^2+dy^2+dz^2}$ is the acrlength element $\\frac{ds}{dt}=\\sqrt{\\left (\\frac{dx}{dt} \\right)^2+\\left( \\frac{dy}{dt}\\right)^2+ \\left (\\frac{dz}{dt}\\right)^2}$</p>\n",
    "<hr> <p>Unit Tangent vector: $\\vec T = \\frac{d\\vec r}{dt}\\frac{1}{|\\frac{d\\vec r}{dt}|}$</p>\n",
    "<p>Curvature:$\\kappa = |\\frac{d \\vec T}{dt}|\\frac{1}{|\\vec v|}$</p>\n",
    "<p>Unit normal vector to the curve: $\\vec N = \\frac{\\frac{d\\vec T}{dt}}{|\\frac{d\\vec T }{dt}|}$</p>"
   ]
  },
  {
   "cell_type": "markdown",
   "id": "074f2e95-6c95-4780-b021-1326d3c6ac88",
   "metadata": {},
   "source": [
    "<p><b>Example</b> Find all these for $\\vec r(t) = <a\\cos(t)e^t,b\\sin(t),ct>$</p>"
   ]
  },
  {
   "cell_type": "code",
   "execution_count": 40,
   "id": "8c10b49f-4fb1-4036-be3c-f7c9ee794e9c",
   "metadata": {},
   "outputs": [],
   "source": [
    "t,a,b,c = smp.symbols('t a b c', pos=True, real=True)"
   ]
  },
  {
   "cell_type": "code",
   "execution_count": 45,
   "id": "5b9ddf6c-6f39-4fa9-ae1c-2c6bbab3c2a3",
   "metadata": {},
   "outputs": [
    {
     "data": {
      "text/latex": [
       "$\\displaystyle \\left[\\begin{matrix}\\frac{- a e^{t} \\sin{\\left(t \\right)} + a e^{t} \\cos{\\left(t \\right)}}{\\sqrt{b^{2} \\cos^{2}{\\left(t \\right)} + c^{2} + \\left(a e^{t} \\sin{\\left(t \\right)} - a e^{t} \\cos{\\left(t \\right)}\\right)^{2}}}\\\\\\frac{b \\cos{\\left(t \\right)}}{\\sqrt{b^{2} \\cos^{2}{\\left(t \\right)} + c^{2} + \\left(a e^{t} \\sin{\\left(t \\right)} - a e^{t} \\cos{\\left(t \\right)}\\right)^{2}}}\\\\\\frac{c}{\\sqrt{b^{2} \\cos^{2}{\\left(t \\right)} + c^{2} + \\left(a e^{t} \\sin{\\left(t \\right)} - a e^{t} \\cos{\\left(t \\right)}\\right)^{2}}}\\end{matrix}\\right]$"
      ],
      "text/plain": [
       "Matrix([\n",
       "[(-a*exp(t)*sin(t) + a*exp(t)*cos(t))/sqrt(b**2*cos(t)**2 + c**2 + (a*exp(t)*sin(t) - a*exp(t)*cos(t))**2)],\n",
       "[                            b*cos(t)/sqrt(b**2*cos(t)**2 + c**2 + (a*exp(t)*sin(t) - a*exp(t)*cos(t))**2)],\n",
       "[                                   c/sqrt(b**2*cos(t)**2 + c**2 + (a*exp(t)*sin(t) - a*exp(t)*cos(t))**2)]])"
      ]
     },
     "execution_count": 45,
     "metadata": {},
     "output_type": "execute_result"
    }
   ],
   "source": [
    "r = smp.Matrix([a*smp.cos(t)*smp.exp(t),b*smp.sin(t),c*t])\n",
    "r_d = smp.diff(r,t)\n",
    "T = r_d * 1/r_d.norm()\n",
    "T"
   ]
  },
  {
   "cell_type": "code",
   "execution_count": 47,
   "id": "fe11620d-eea8-4487-ab26-96b2f1ccb09b",
   "metadata": {},
   "outputs": [
    {
     "data": {
      "text/latex": [
       "$\\displaystyle \\left[\\begin{matrix}- \\frac{2 a e^{t} \\sin{\\left(t \\right)}}{\\sqrt{b^{2} \\cos^{2}{\\left(t \\right)} + c^{2} + \\left(a e^{t} \\sin{\\left(t \\right)} - a e^{t} \\cos{\\left(t \\right)}\\right)^{2}}} + \\frac{\\left(- a e^{t} \\sin{\\left(t \\right)} + a e^{t} \\cos{\\left(t \\right)}\\right) \\left(- 2 a \\left(a e^{t} \\sin{\\left(t \\right)} - a e^{t} \\cos{\\left(t \\right)}\\right) e^{t} \\sin{\\left(t \\right)} + b^{2} \\sin{\\left(t \\right)} \\cos{\\left(t \\right)}\\right)}{\\left(b^{2} \\cos^{2}{\\left(t \\right)} + c^{2} + \\left(a e^{t} \\sin{\\left(t \\right)} - a e^{t} \\cos{\\left(t \\right)}\\right)^{2}\\right)^{\\frac{3}{2}}}\\\\\\frac{b \\left(- 2 a \\left(a e^{t} \\sin{\\left(t \\right)} - a e^{t} \\cos{\\left(t \\right)}\\right) e^{t} \\sin{\\left(t \\right)} + b^{2} \\sin{\\left(t \\right)} \\cos{\\left(t \\right)}\\right) \\cos{\\left(t \\right)}}{\\left(b^{2} \\cos^{2}{\\left(t \\right)} + c^{2} + \\left(a e^{t} \\sin{\\left(t \\right)} - a e^{t} \\cos{\\left(t \\right)}\\right)^{2}\\right)^{\\frac{3}{2}}} - \\frac{b \\sin{\\left(t \\right)}}{\\sqrt{b^{2} \\cos^{2}{\\left(t \\right)} + c^{2} + \\left(a e^{t} \\sin{\\left(t \\right)} - a e^{t} \\cos{\\left(t \\right)}\\right)^{2}}}\\\\\\frac{c \\left(- 2 a \\left(a e^{t} \\sin{\\left(t \\right)} - a e^{t} \\cos{\\left(t \\right)}\\right) e^{t} \\sin{\\left(t \\right)} + b^{2} \\sin{\\left(t \\right)} \\cos{\\left(t \\right)}\\right)}{\\left(b^{2} \\cos^{2}{\\left(t \\right)} + c^{2} + \\left(a e^{t} \\sin{\\left(t \\right)} - a e^{t} \\cos{\\left(t \\right)}\\right)^{2}\\right)^{\\frac{3}{2}}}\\end{matrix}\\right]$"
      ],
      "text/plain": [
       "Matrix([\n",
       "[-2*a*exp(t)*sin(t)/sqrt(b**2*cos(t)**2 + c**2 + (a*exp(t)*sin(t) - a*exp(t)*cos(t))**2) + (-a*exp(t)*sin(t) + a*exp(t)*cos(t))*(-2*a*(a*exp(t)*sin(t) - a*exp(t)*cos(t))*exp(t)*sin(t) + b**2*sin(t)*cos(t))/(b**2*cos(t)**2 + c**2 + (a*exp(t)*sin(t) - a*exp(t)*cos(t))**2)**(3/2)],\n",
       "[                                      b*(-2*a*(a*exp(t)*sin(t) - a*exp(t)*cos(t))*exp(t)*sin(t) + b**2*sin(t)*cos(t))*cos(t)/(b**2*cos(t)**2 + c**2 + (a*exp(t)*sin(t) - a*exp(t)*cos(t))**2)**(3/2) - b*sin(t)/sqrt(b**2*cos(t)**2 + c**2 + (a*exp(t)*sin(t) - a*exp(t)*cos(t))**2)],\n",
       "[                                                                                                                             c*(-2*a*(a*exp(t)*sin(t) - a*exp(t)*cos(t))*exp(t)*sin(t) + b**2*sin(t)*cos(t))/(b**2*cos(t)**2 + c**2 + (a*exp(t)*sin(t) - a*exp(t)*cos(t))**2)**(3/2)]])"
      ]
     },
     "execution_count": 47,
     "metadata": {},
     "output_type": "execute_result"
    }
   ],
   "source": [
    "T_d = smp.diff(T,t)\n",
    "T_d"
   ]
  },
  {
   "cell_type": "code",
   "execution_count": 49,
   "id": "8c8c0cb2-8e6e-4e6a-afa3-dbaf9b3f8502",
   "metadata": {},
   "outputs": [
    {
     "data": {
      "text/latex": [
       "$\\displaystyle \\frac{\\sqrt{\\frac{c^{2} \\left(2 a \\left(a e^{t} \\sin{\\left(t \\right)} - a e^{t} \\cos{\\left(t \\right)}\\right) e^{t} \\sin{\\left(t \\right)} - b^{2} \\sin{\\left(t \\right)} \\cos{\\left(t \\right)}\\right)^{2}}{\\left(b^{2} \\cos^{2}{\\left(t \\right)} + c^{2} + \\left(a e^{t} \\sin{\\left(t \\right)} - a e^{t} \\cos{\\left(t \\right)}\\right)^{2}\\right)^{3}} + \\left|{\\frac{2 a e^{t} \\sin{\\left(t \\right)}}{\\sqrt{b^{2} \\cos^{2}{\\left(t \\right)} + c^{2} + \\left(a e^{t} \\sin{\\left(t \\right)} - a e^{t} \\cos{\\left(t \\right)}\\right)^{2}}} - \\frac{\\left(a e^{t} \\sin{\\left(t \\right)} - a e^{t} \\cos{\\left(t \\right)}\\right) \\left(2 a \\left(a e^{t} \\sin{\\left(t \\right)} - a e^{t} \\cos{\\left(t \\right)}\\right) e^{t} \\sin{\\left(t \\right)} - b^{2} \\sin{\\left(t \\right)} \\cos{\\left(t \\right)}\\right)}{\\left(b^{2} \\cos^{2}{\\left(t \\right)} + c^{2} + \\left(a e^{t} \\sin{\\left(t \\right)} - a e^{t} \\cos{\\left(t \\right)}\\right)^{2}\\right)^{\\frac{3}{2}}}}\\right|^{2} + \\left|{\\frac{b \\left(2 a \\left(a e^{t} \\sin{\\left(t \\right)} - a e^{t} \\cos{\\left(t \\right)}\\right) e^{t} \\sin{\\left(t \\right)} - b^{2} \\sin{\\left(t \\right)} \\cos{\\left(t \\right)}\\right) \\cos{\\left(t \\right)}}{\\left(b^{2} \\cos^{2}{\\left(t \\right)} + c^{2} + \\left(a e^{t} \\sin{\\left(t \\right)} - a e^{t} \\cos{\\left(t \\right)}\\right)^{2}\\right)^{\\frac{3}{2}}} + \\frac{b \\sin{\\left(t \\right)}}{\\sqrt{b^{2} \\cos^{2}{\\left(t \\right)} + c^{2} + \\left(a e^{t} \\sin{\\left(t \\right)} - a e^{t} \\cos{\\left(t \\right)}\\right)^{2}}}}\\right|^{2}}}{\\sqrt{b^{2} \\cos^{2}{\\left(t \\right)} + c^{2} + \\left(a e^{t} \\sin{\\left(t \\right)} - a e^{t} \\cos{\\left(t \\right)}\\right)^{2}}}$"
      ],
      "text/plain": [
       "sqrt(c**2*(2*a*(a*exp(t)*sin(t) - a*exp(t)*cos(t))*exp(t)*sin(t) - b**2*sin(t)*cos(t))**2/(b**2*cos(t)**2 + c**2 + (a*exp(t)*sin(t) - a*exp(t)*cos(t))**2)**3 + Abs(2*a*exp(t)*sin(t)/sqrt(b**2*cos(t)**2 + c**2 + (a*exp(t)*sin(t) - a*exp(t)*cos(t))**2) - (a*exp(t)*sin(t) - a*exp(t)*cos(t))*(2*a*(a*exp(t)*sin(t) - a*exp(t)*cos(t))*exp(t)*sin(t) - b**2*sin(t)*cos(t))/(b**2*cos(t)**2 + c**2 + (a*exp(t)*sin(t) - a*exp(t)*cos(t))**2)**(3/2))**2 + Abs(b*(2*a*(a*exp(t)*sin(t) - a*exp(t)*cos(t))*exp(t)*sin(t) - b**2*sin(t)*cos(t))*cos(t)/(b**2*cos(t)**2 + c**2 + (a*exp(t)*sin(t) - a*exp(t)*cos(t))**2)**(3/2) + b*sin(t)/sqrt(b**2*cos(t)**2 + c**2 + (a*exp(t)*sin(t) - a*exp(t)*cos(t))**2))**2)/sqrt(b**2*cos(t)**2 + c**2 + (a*exp(t)*sin(t) - a*exp(t)*cos(t))**2)"
      ]
     },
     "execution_count": 49,
     "metadata": {},
     "output_type": "execute_result"
    }
   ],
   "source": [
    "k = T_d.norm()*1/r_d.norm()\n",
    "k"
   ]
  },
  {
   "cell_type": "code",
   "execution_count": 50,
   "id": "0e3883c3-f744-406c-b804-7deb74e3c6c8",
   "metadata": {},
   "outputs": [
    {
     "data": {
      "text/latex": [
       "$\\displaystyle \\left[\\begin{matrix}\\frac{- \\frac{2 a e^{t} \\sin{\\left(t \\right)}}{\\sqrt{b^{2} \\cos^{2}{\\left(t \\right)} + c^{2} + \\left(a e^{t} \\sin{\\left(t \\right)} - a e^{t} \\cos{\\left(t \\right)}\\right)^{2}}} + \\frac{\\left(- a e^{t} \\sin{\\left(t \\right)} + a e^{t} \\cos{\\left(t \\right)}\\right) \\left(- 2 a \\left(a e^{t} \\sin{\\left(t \\right)} - a e^{t} \\cos{\\left(t \\right)}\\right) e^{t} \\sin{\\left(t \\right)} + b^{2} \\sin{\\left(t \\right)} \\cos{\\left(t \\right)}\\right)}{\\left(b^{2} \\cos^{2}{\\left(t \\right)} + c^{2} + \\left(a e^{t} \\sin{\\left(t \\right)} - a e^{t} \\cos{\\left(t \\right)}\\right)^{2}\\right)^{\\frac{3}{2}}}}{\\sqrt{\\frac{c^{2} \\left(2 a \\left(a e^{t} \\sin{\\left(t \\right)} - a e^{t} \\cos{\\left(t \\right)}\\right) e^{t} \\sin{\\left(t \\right)} - b^{2} \\sin{\\left(t \\right)} \\cos{\\left(t \\right)}\\right)^{2}}{\\left(b^{2} \\cos^{2}{\\left(t \\right)} + c^{2} + \\left(a e^{t} \\sin{\\left(t \\right)} - a e^{t} \\cos{\\left(t \\right)}\\right)^{2}\\right)^{3}} + \\left|{\\frac{2 a e^{t} \\sin{\\left(t \\right)}}{\\sqrt{b^{2} \\cos^{2}{\\left(t \\right)} + c^{2} + \\left(a e^{t} \\sin{\\left(t \\right)} - a e^{t} \\cos{\\left(t \\right)}\\right)^{2}}} - \\frac{\\left(a e^{t} \\sin{\\left(t \\right)} - a e^{t} \\cos{\\left(t \\right)}\\right) \\left(2 a \\left(a e^{t} \\sin{\\left(t \\right)} - a e^{t} \\cos{\\left(t \\right)}\\right) e^{t} \\sin{\\left(t \\right)} - b^{2} \\sin{\\left(t \\right)} \\cos{\\left(t \\right)}\\right)}{\\left(b^{2} \\cos^{2}{\\left(t \\right)} + c^{2} + \\left(a e^{t} \\sin{\\left(t \\right)} - a e^{t} \\cos{\\left(t \\right)}\\right)^{2}\\right)^{\\frac{3}{2}}}}\\right|^{2} + \\left|{\\frac{b \\left(2 a \\left(a e^{t} \\sin{\\left(t \\right)} - a e^{t} \\cos{\\left(t \\right)}\\right) e^{t} \\sin{\\left(t \\right)} - b^{2} \\sin{\\left(t \\right)} \\cos{\\left(t \\right)}\\right) \\cos{\\left(t \\right)}}{\\left(b^{2} \\cos^{2}{\\left(t \\right)} + c^{2} + \\left(a e^{t} \\sin{\\left(t \\right)} - a e^{t} \\cos{\\left(t \\right)}\\right)^{2}\\right)^{\\frac{3}{2}}} + \\frac{b \\sin{\\left(t \\right)}}{\\sqrt{b^{2} \\cos^{2}{\\left(t \\right)} + c^{2} + \\left(a e^{t} \\sin{\\left(t \\right)} - a e^{t} \\cos{\\left(t \\right)}\\right)^{2}}}}\\right|^{2}}}\\\\\\frac{\\frac{b \\left(- 2 a \\left(a e^{t} \\sin{\\left(t \\right)} - a e^{t} \\cos{\\left(t \\right)}\\right) e^{t} \\sin{\\left(t \\right)} + b^{2} \\sin{\\left(t \\right)} \\cos{\\left(t \\right)}\\right) \\cos{\\left(t \\right)}}{\\left(b^{2} \\cos^{2}{\\left(t \\right)} + c^{2} + \\left(a e^{t} \\sin{\\left(t \\right)} - a e^{t} \\cos{\\left(t \\right)}\\right)^{2}\\right)^{\\frac{3}{2}}} - \\frac{b \\sin{\\left(t \\right)}}{\\sqrt{b^{2} \\cos^{2}{\\left(t \\right)} + c^{2} + \\left(a e^{t} \\sin{\\left(t \\right)} - a e^{t} \\cos{\\left(t \\right)}\\right)^{2}}}}{\\sqrt{\\frac{c^{2} \\left(2 a \\left(a e^{t} \\sin{\\left(t \\right)} - a e^{t} \\cos{\\left(t \\right)}\\right) e^{t} \\sin{\\left(t \\right)} - b^{2} \\sin{\\left(t \\right)} \\cos{\\left(t \\right)}\\right)^{2}}{\\left(b^{2} \\cos^{2}{\\left(t \\right)} + c^{2} + \\left(a e^{t} \\sin{\\left(t \\right)} - a e^{t} \\cos{\\left(t \\right)}\\right)^{2}\\right)^{3}} + \\left|{\\frac{2 a e^{t} \\sin{\\left(t \\right)}}{\\sqrt{b^{2} \\cos^{2}{\\left(t \\right)} + c^{2} + \\left(a e^{t} \\sin{\\left(t \\right)} - a e^{t} \\cos{\\left(t \\right)}\\right)^{2}}} - \\frac{\\left(a e^{t} \\sin{\\left(t \\right)} - a e^{t} \\cos{\\left(t \\right)}\\right) \\left(2 a \\left(a e^{t} \\sin{\\left(t \\right)} - a e^{t} \\cos{\\left(t \\right)}\\right) e^{t} \\sin{\\left(t \\right)} - b^{2} \\sin{\\left(t \\right)} \\cos{\\left(t \\right)}\\right)}{\\left(b^{2} \\cos^{2}{\\left(t \\right)} + c^{2} + \\left(a e^{t} \\sin{\\left(t \\right)} - a e^{t} \\cos{\\left(t \\right)}\\right)^{2}\\right)^{\\frac{3}{2}}}}\\right|^{2} + \\left|{\\frac{b \\left(2 a \\left(a e^{t} \\sin{\\left(t \\right)} - a e^{t} \\cos{\\left(t \\right)}\\right) e^{t} \\sin{\\left(t \\right)} - b^{2} \\sin{\\left(t \\right)} \\cos{\\left(t \\right)}\\right) \\cos{\\left(t \\right)}}{\\left(b^{2} \\cos^{2}{\\left(t \\right)} + c^{2} + \\left(a e^{t} \\sin{\\left(t \\right)} - a e^{t} \\cos{\\left(t \\right)}\\right)^{2}\\right)^{\\frac{3}{2}}} + \\frac{b \\sin{\\left(t \\right)}}{\\sqrt{b^{2} \\cos^{2}{\\left(t \\right)} + c^{2} + \\left(a e^{t} \\sin{\\left(t \\right)} - a e^{t} \\cos{\\left(t \\right)}\\right)^{2}}}}\\right|^{2}}}\\\\\\frac{c \\left(- 2 a \\left(a e^{t} \\sin{\\left(t \\right)} - a e^{t} \\cos{\\left(t \\right)}\\right) e^{t} \\sin{\\left(t \\right)} + b^{2} \\sin{\\left(t \\right)} \\cos{\\left(t \\right)}\\right)}{\\left(b^{2} \\cos^{2}{\\left(t \\right)} + c^{2} + \\left(a e^{t} \\sin{\\left(t \\right)} - a e^{t} \\cos{\\left(t \\right)}\\right)^{2}\\right)^{\\frac{3}{2}} \\sqrt{\\frac{c^{2} \\left(2 a \\left(a e^{t} \\sin{\\left(t \\right)} - a e^{t} \\cos{\\left(t \\right)}\\right) e^{t} \\sin{\\left(t \\right)} - b^{2} \\sin{\\left(t \\right)} \\cos{\\left(t \\right)}\\right)^{2}}{\\left(b^{2} \\cos^{2}{\\left(t \\right)} + c^{2} + \\left(a e^{t} \\sin{\\left(t \\right)} - a e^{t} \\cos{\\left(t \\right)}\\right)^{2}\\right)^{3}} + \\left|{\\frac{2 a e^{t} \\sin{\\left(t \\right)}}{\\sqrt{b^{2} \\cos^{2}{\\left(t \\right)} + c^{2} + \\left(a e^{t} \\sin{\\left(t \\right)} - a e^{t} \\cos{\\left(t \\right)}\\right)^{2}}} - \\frac{\\left(a e^{t} \\sin{\\left(t \\right)} - a e^{t} \\cos{\\left(t \\right)}\\right) \\left(2 a \\left(a e^{t} \\sin{\\left(t \\right)} - a e^{t} \\cos{\\left(t \\right)}\\right) e^{t} \\sin{\\left(t \\right)} - b^{2} \\sin{\\left(t \\right)} \\cos{\\left(t \\right)}\\right)}{\\left(b^{2} \\cos^{2}{\\left(t \\right)} + c^{2} + \\left(a e^{t} \\sin{\\left(t \\right)} - a e^{t} \\cos{\\left(t \\right)}\\right)^{2}\\right)^{\\frac{3}{2}}}}\\right|^{2} + \\left|{\\frac{b \\left(2 a \\left(a e^{t} \\sin{\\left(t \\right)} - a e^{t} \\cos{\\left(t \\right)}\\right) e^{t} \\sin{\\left(t \\right)} - b^{2} \\sin{\\left(t \\right)} \\cos{\\left(t \\right)}\\right) \\cos{\\left(t \\right)}}{\\left(b^{2} \\cos^{2}{\\left(t \\right)} + c^{2} + \\left(a e^{t} \\sin{\\left(t \\right)} - a e^{t} \\cos{\\left(t \\right)}\\right)^{2}\\right)^{\\frac{3}{2}}} + \\frac{b \\sin{\\left(t \\right)}}{\\sqrt{b^{2} \\cos^{2}{\\left(t \\right)} + c^{2} + \\left(a e^{t} \\sin{\\left(t \\right)} - a e^{t} \\cos{\\left(t \\right)}\\right)^{2}}}}\\right|^{2}}}\\end{matrix}\\right]$"
      ],
      "text/plain": [
       "Matrix([\n",
       "[(-2*a*exp(t)*sin(t)/sqrt(b**2*cos(t)**2 + c**2 + (a*exp(t)*sin(t) - a*exp(t)*cos(t))**2) + (-a*exp(t)*sin(t) + a*exp(t)*cos(t))*(-2*a*(a*exp(t)*sin(t) - a*exp(t)*cos(t))*exp(t)*sin(t) + b**2*sin(t)*cos(t))/(b**2*cos(t)**2 + c**2 + (a*exp(t)*sin(t) - a*exp(t)*cos(t))**2)**(3/2))/sqrt(c**2*(2*a*(a*exp(t)*sin(t) - a*exp(t)*cos(t))*exp(t)*sin(t) - b**2*sin(t)*cos(t))**2/(b**2*cos(t)**2 + c**2 + (a*exp(t)*sin(t) - a*exp(t)*cos(t))**2)**3 + Abs(2*a*exp(t)*sin(t)/sqrt(b**2*cos(t)**2 + c**2 + (a*exp(t)*sin(t) - a*exp(t)*cos(t))**2) - (a*exp(t)*sin(t) - a*exp(t)*cos(t))*(2*a*(a*exp(t)*sin(t) - a*exp(t)*cos(t))*exp(t)*sin(t) - b**2*sin(t)*cos(t))/(b**2*cos(t)**2 + c**2 + (a*exp(t)*sin(t) - a*exp(t)*cos(t))**2)**(3/2))**2 + Abs(b*(2*a*(a*exp(t)*sin(t) - a*exp(t)*cos(t))*exp(t)*sin(t) - b**2*sin(t)*cos(t))*cos(t)/(b**2*cos(t)**2 + c**2 + (a*exp(t)*sin(t) - a*exp(t)*cos(t))**2)**(3/2) + b*sin(t)/sqrt(b**2*cos(t)**2 + c**2 + (a*exp(t)*sin(t) - a*exp(t)*cos(t))**2))**2)],\n",
       "[                                      (b*(-2*a*(a*exp(t)*sin(t) - a*exp(t)*cos(t))*exp(t)*sin(t) + b**2*sin(t)*cos(t))*cos(t)/(b**2*cos(t)**2 + c**2 + (a*exp(t)*sin(t) - a*exp(t)*cos(t))**2)**(3/2) - b*sin(t)/sqrt(b**2*cos(t)**2 + c**2 + (a*exp(t)*sin(t) - a*exp(t)*cos(t))**2))/sqrt(c**2*(2*a*(a*exp(t)*sin(t) - a*exp(t)*cos(t))*exp(t)*sin(t) - b**2*sin(t)*cos(t))**2/(b**2*cos(t)**2 + c**2 + (a*exp(t)*sin(t) - a*exp(t)*cos(t))**2)**3 + Abs(2*a*exp(t)*sin(t)/sqrt(b**2*cos(t)**2 + c**2 + (a*exp(t)*sin(t) - a*exp(t)*cos(t))**2) - (a*exp(t)*sin(t) - a*exp(t)*cos(t))*(2*a*(a*exp(t)*sin(t) - a*exp(t)*cos(t))*exp(t)*sin(t) - b**2*sin(t)*cos(t))/(b**2*cos(t)**2 + c**2 + (a*exp(t)*sin(t) - a*exp(t)*cos(t))**2)**(3/2))**2 + Abs(b*(2*a*(a*exp(t)*sin(t) - a*exp(t)*cos(t))*exp(t)*sin(t) - b**2*sin(t)*cos(t))*cos(t)/(b**2*cos(t)**2 + c**2 + (a*exp(t)*sin(t) - a*exp(t)*cos(t))**2)**(3/2) + b*sin(t)/sqrt(b**2*cos(t)**2 + c**2 + (a*exp(t)*sin(t) - a*exp(t)*cos(t))**2))**2)],\n",
       "[                                                                                                                             c*(-2*a*(a*exp(t)*sin(t) - a*exp(t)*cos(t))*exp(t)*sin(t) + b**2*sin(t)*cos(t))/((b**2*cos(t)**2 + c**2 + (a*exp(t)*sin(t) - a*exp(t)*cos(t))**2)**(3/2)*sqrt(c**2*(2*a*(a*exp(t)*sin(t) - a*exp(t)*cos(t))*exp(t)*sin(t) - b**2*sin(t)*cos(t))**2/(b**2*cos(t)**2 + c**2 + (a*exp(t)*sin(t) - a*exp(t)*cos(t))**2)**3 + Abs(2*a*exp(t)*sin(t)/sqrt(b**2*cos(t)**2 + c**2 + (a*exp(t)*sin(t) - a*exp(t)*cos(t))**2) - (a*exp(t)*sin(t) - a*exp(t)*cos(t))*(2*a*(a*exp(t)*sin(t) - a*exp(t)*cos(t))*exp(t)*sin(t) - b**2*sin(t)*cos(t))/(b**2*cos(t)**2 + c**2 + (a*exp(t)*sin(t) - a*exp(t)*cos(t))**2)**(3/2))**2 + Abs(b*(2*a*(a*exp(t)*sin(t) - a*exp(t)*cos(t))*exp(t)*sin(t) - b**2*sin(t)*cos(t))*cos(t)/(b**2*cos(t)**2 + c**2 + (a*exp(t)*sin(t) - a*exp(t)*cos(t))**2)**(3/2) + b*sin(t)/sqrt(b**2*cos(t)**2 + c**2 + (a*exp(t)*sin(t) - a*exp(t)*cos(t))**2))**2))]])"
      ]
     },
     "execution_count": 50,
     "metadata": {},
     "output_type": "execute_result"
    }
   ],
   "source": [
    "N = T_d/T_d.norm()\n",
    "N"
   ]
  },
  {
   "cell_type": "markdown",
   "id": "eb525cbd-201e-44c9-a2dc-79dc4c6758c4",
   "metadata": {},
   "source": [
    "<p>Can evaluate these quantities or make plots</p>"
   ]
  },
  {
   "cell_type": "code",
   "execution_count": 52,
   "id": "45ecf164-0d38-4eb0-b785-81feccaa5d78",
   "metadata": {},
   "outputs": [
    {
     "data": {
      "text/latex": [
       "$\\displaystyle 0.00775458595406284$"
      ],
      "text/plain": [
       "0.00775458595406284"
      ]
     },
     "execution_count": 52,
     "metadata": {},
     "output_type": "execute_result"
    }
   ],
   "source": [
    "k.subs([(t,2),(a,3),(b,4),(c,5)]).evalf()"
   ]
  },
  {
   "cell_type": "code",
   "execution_count": 55,
   "id": "396c8d79-0b7b-46d8-9b94-4b0519e83d3e",
   "metadata": {},
   "outputs": [
    {
     "data": {
      "text/latex": [
       "$\\displaystyle \\left[\\begin{matrix}-0.152946073876551\\\\-0.204518432770271\\\\-0.966840063890063\\end{matrix}\\right]$"
      ],
      "text/plain": [
       "Matrix([\n",
       "[-0.152946073876551],\n",
       "[-0.204518432770271],\n",
       "[-0.966840063890063]])"
      ]
     },
     "execution_count": 55,
     "metadata": {},
     "output_type": "execute_result"
    }
   ],
   "source": [
    "N.subs([(t,2),(a,3),(b,4),(c,5)]).evalf()"
   ]
  },
  {
   "cell_type": "markdown",
   "id": "87b17b11-c84f-4e07-bcc7-bde2e5287356",
   "metadata": {},
   "source": [
    "<p>can also make continous plots</p>"
   ]
  },
  {
   "cell_type": "code",
   "execution_count": 57,
   "id": "138b7bb4-1106-4c98-ab7f-868419623db8",
   "metadata": {},
   "outputs": [],
   "source": [
    "k_num = smp.lambdify([t,a,b,c],k)\n"
   ]
  },
  {
   "cell_type": "code",
   "execution_count": 62,
   "id": "80a86831-ec2e-44c4-926f-0b63c55c6df5",
   "metadata": {},
   "outputs": [
    {
     "data": {
      "image/png": "[encoded data removed]",
      "text/plain": [
       "<Figure size 640x480 with 1 Axes>"
      ]
     },
     "metadata": {},
     "output_type": "display_data"
    }
   ],
   "source": [
    "tt = np.linspace(0,2,100)\n",
    "kk = k_num(tt,1,2,3)\n",
    "fig,ax = plt.subplots()\n",
    "ax.plot(tt,kk)\n",
    "ax.set_ylabel(r'$\\kappa$',fontsize=14)\n",
    "ax.set_xlabel(r'$time$',fontsize=14)\n",
    "plt.show()"
   ]
  },
  {
   "cell_type": "markdown",
   "id": "e29f6ebe-ef2e-49e5-b6d8-ce5d02792089",
   "metadata": {},
   "source": [
    "<h2>Partial/Directional Derivaties</h2>"
   ]
  },
  {
   "cell_type": "code",
   "execution_count": 64,
   "id": "1dfad8b8-8255-4db6-8e7f-8a0704d0e8f0",
   "metadata": {},
   "outputs": [],
   "source": [
    "x,y,z = smp.symbols('x y z')"
   ]
  },
  {
   "cell_type": "markdown",
   "id": "fd5d9ae0-6689-4aae-a2f0-a7fe3e3a734e",
   "metadata": {},
   "source": [
    "<h2>Basic</h2><p>Partial Derivaties $\\frac{\\partial f}{\\partial x}$ ,$\\frac{\\partial^3 f}{\\partial x \\partial y^2}$and $\\frac{\\partial f}{\\partial y}$ of $ f(x,y)= y^2 \\sin(x+y)$</p>"
   ]
  },
  {
   "cell_type": "code",
   "execution_count": 65,
   "id": "bbc7e09f-877e-44db-a3c7-5732c98a240f",
   "metadata": {},
   "outputs": [
    {
     "data": {
      "text/latex": [
       "$\\displaystyle y^{2} \\cos{\\left(x + y \\right)}$"
      ],
      "text/plain": [
       "y**2*cos(x + y)"
      ]
     },
     "execution_count": 65,
     "metadata": {},
     "output_type": "execute_result"
    }
   ],
   "source": [
    "f = y**2*smp.sin(x+y)\n",
    "smp.diff(f,x)"
   ]
  },
  {
   "cell_type": "code",
   "execution_count": 66,
   "id": "6cb24e27-c452-4d0f-b483-34e63e8f2c87",
   "metadata": {},
   "outputs": [
    {
     "data": {
      "text/latex": [
       "$\\displaystyle y^{2} \\cos{\\left(x + y \\right)} + 2 y \\sin{\\left(x + y \\right)}$"
      ],
      "text/plain": [
       "y**2*cos(x + y) + 2*y*sin(x + y)"
      ]
     },
     "execution_count": 66,
     "metadata": {},
     "output_type": "execute_result"
    }
   ],
   "source": [
    "smp.diff(f,y)"
   ]
  },
  {
   "cell_type": "code",
   "execution_count": 68,
   "id": "ca96b301-9247-4519-8189-5e08e8ba073d",
   "metadata": {},
   "outputs": [
    {
     "data": {
      "text/latex": [
       "$\\displaystyle - y^{2} \\cos{\\left(x + y \\right)} - 4 y \\sin{\\left(x + y \\right)} + 2 \\cos{\\left(x + y \\right)}$"
      ],
      "text/plain": [
       "-y**2*cos(x + y) - 4*y*sin(x + y) + 2*cos(x + y)"
      ]
     },
     "execution_count": 68,
     "metadata": {},
     "output_type": "execute_result"
    }
   ],
   "source": [
    "smp.diff(f,x,y,y)"
   ]
  },
  {
   "cell_type": "markdown",
   "id": "329c27c7-266e-4526-b8f9-dc3a69e5c1c7",
   "metadata": {},
   "source": [
    "<h2>The chain Rule</h2>"
   ]
  },
  {
   "cell_type": "code",
   "execution_count": 72,
   "id": "e86ddb0d-0b6b-406c-b5a7-caab869b4b56",
   "metadata": {},
   "outputs": [],
   "source": [
    "t = smp.symbols('t')\n",
    "x,y,z,w,v = smp.symbols('x y z w v', cls=smp.Function)\n",
    "\n"
   ]
  },
  {
   "cell_type": "markdown",
   "id": "2a5f811f-76cb-4fe2-bac7-ef68491a79f4",
   "metadata": {},
   "source": [
    "<p>Suppose $x,y$ and $z$ are function of $ t$</p>\n",
    "<p>$w$ is a function of $x,y,z $ and $z$ i.e $w= w(x,y,z)$</p>\n",
    "<p>find $\\frac{dw}{dt}$</p>"
   ]
  },
  {
   "cell_type": "code",
   "execution_count": 73,
   "id": "0996d26f-9a25-48fb-ae86-530a321a5ca3",
   "metadata": {},
   "outputs": [],
   "source": [
    "x = x(t)\n",
    "y = y(t)\n",
    "z = z(t)\n",
    "w = w(x,y,z)\n",
    "\n"
   ]
  },
  {
   "cell_type": "markdown",
   "id": "ee4882ee-6dc9-4ee1-b72f-0d0431136504",
   "metadata": {},
   "source": [
    "<p>Can keep things in a more functional forms</p>"
   ]
  },
  {
   "cell_type": "code",
   "execution_count": 74,
   "id": "49ceae85-6b32-4454-b53c-3167ec5a324f",
   "metadata": {},
   "outputs": [
    {
     "data": {
      "text/latex": [
       "$\\displaystyle \\frac{d}{d x{\\left(t \\right)}} w{\\left(x{\\left(t \\right)},y{\\left(t \\right)},z{\\left(t \\right)} \\right)} \\frac{d}{d t} x{\\left(t \\right)} + \\frac{d}{d y{\\left(t \\right)}} w{\\left(x{\\left(t \\right)},y{\\left(t \\right)},z{\\left(t \\right)} \\right)} \\frac{d}{d t} y{\\left(t \\right)} + \\frac{d}{d z{\\left(t \\right)}} w{\\left(x{\\left(t \\right)},y{\\left(t \\right)},z{\\left(t \\right)} \\right)} \\frac{d}{d t} z{\\left(t \\right)}$"
      ],
      "text/plain": [
       "Derivative(w(x(t), y(t), z(t)), x(t))*Derivative(x(t), t) + Derivative(w(x(t), y(t), z(t)), y(t))*Derivative(y(t), t) + Derivative(w(x(t), y(t), z(t)), z(t))*Derivative(z(t), t)"
      ]
     },
     "execution_count": 74,
     "metadata": {},
     "output_type": "execute_result"
    }
   ],
   "source": [
    "smp.diff(w,t)"
   ]
  },
  {
   "cell_type": "markdown",
   "id": "b2e96557-368d-484f-a6fd-21f9bb1dc727",
   "metadata": {},
   "source": [
    "Or put in specific functions"
   ]
  },
  {
   "cell_type": "code",
   "execution_count": 84,
   "id": "520c607e-93c2-4911-8b71-20b0a16f1662",
   "metadata": {},
   "outputs": [
    {
     "data": {
      "text/latex": [
       "$\\displaystyle 2 t e^{\\cos{\\left(t \\right)}} \\cos{\\left(t^{2} \\right)} - e^{\\cos{\\left(t \\right)}} \\sin{\\left(t \\right)} \\sin{\\left(t^{2} \\right)} + 2 \\sin{\\left(t \\right)} \\cos{\\left(t \\right)}$"
      ],
      "text/plain": [
       "2*t*exp(cos(t))*cos(t**2) - exp(cos(t))*sin(t)*sin(t**2) + 2*sin(t)*cos(t)"
      ]
     },
     "execution_count": 84,
     "metadata": {},
     "output_type": "execute_result"
    }
   ],
   "source": [
    "w1 = x**2 + smp.exp(y)*smp.sin(z)\n",
    "smp.diff(w1,t).subs([(x,smp.sin(t)),(y,smp.cos(t)),(z,t**2)]).doit()"
   ]
  },
  {
   "cell_type": "markdown",
   "id": "3e0762d5-c1ae-450a-ade9-303c937ff7f1",
   "metadata": {},
   "source": [
    "<h2>Gradients</h2><p>Gradients: $\\nabla f$. Now we are dealing with particular coordinate systems, so we must be careful:</p>"
   ]
  },
  {
   "cell_type": "code",
   "execution_count": 92,
   "id": "77c31abd-b377-42d4-b607-efd585519260",
   "metadata": {},
   "outputs": [
    {
     "data": {
      "text/latex": [
       "$\\displaystyle \\left(\\sin{\\left(\\mathbf{{y}_{}} \\right)}\\right)\\mathbf{\\hat{i}_{}} + \\left(\\mathbf{{x}_{}} \\cos{\\left(\\mathbf{{y}_{}} \\right)}\\right)\\mathbf{\\hat{j}_{}}$"
      ],
      "text/plain": [
       "(sin(.y))*.i + (.x*cos(.y))*.j"
      ]
     },
     "execution_count": 92,
     "metadata": {},
     "output_type": "execute_result"
    }
   ],
   "source": [
    "C = CoordSys3D('')\n",
    "f = C.x*smp.sin(C.y)\n",
    "gradient(f)"
   ]
  },
  {
   "cell_type": "code",
   "execution_count": 91,
   "id": "176ae125-6d84-46f9-b8c9-398641f4fcce",
   "metadata": {},
   "outputs": [
    {
     "data": {
      "text/latex": [
       "$\\displaystyle \\mathbf{{x}_{}} \\sin{\\left(\\mathbf{{y}_{}} \\right)}$"
      ],
      "text/plain": [
       ".x*sin(.y)"
      ]
     },
     "execution_count": 91,
     "metadata": {},
     "output_type": "execute_result"
    }
   ],
   "source": [
    "f"
   ]
  },
  {
   "cell_type": "code",
   "execution_count": 93,
   "id": "dff4e385-4251-415d-9c03-6694730b5c51",
   "metadata": {},
   "outputs": [
    {
     "data": {
      "text/latex": [
       "$\\displaystyle \\left[\\begin{matrix}\\sin{\\left(\\mathbf{{y}_{}} \\right)}\\\\\\mathbf{{x}_{}} \\cos{\\left(\\mathbf{{y}_{}} \\right)}\\\\0\\end{matrix}\\right]$"
      ],
      "text/plain": [
       "Matrix([\n",
       "[   sin(.y)],\n",
       "[.x*cos(.y)],\n",
       "[         0]])"
      ]
     },
     "execution_count": 93,
     "metadata": {},
     "output_type": "execute_result"
    }
   ],
   "source": [
    "gradient(f).to_matrix(C)"
   ]
  },
  {
   "cell_type": "code",
   "execution_count": 95,
   "id": "e5740d35-7823-437a-9c60-2fe34092742a",
   "metadata": {},
   "outputs": [
    {
     "data": {
      "text/latex": [
       "$\\displaystyle \\left[\\begin{matrix}\\sin{\\left(1 \\right)}\\\\\\mathbf{{x}_{}} \\cos{\\left(1 \\right)}\\\\0\\end{matrix}\\right]$"
      ],
      "text/plain": [
       "Matrix([\n",
       "[   sin(1)],\n",
       "[.x*cos(1)],\n",
       "[        0]])"
      ]
     },
     "execution_count": 95,
     "metadata": {},
     "output_type": "execute_result"
    }
   ],
   "source": [
    "gradient(f).to_matrix(C).subs([(C.y,1)])"
   ]
  },
  {
   "cell_type": "markdown",
   "id": "b32644ac-cb5c-4665-9700-5b88014ecdea",
   "metadata": {},
   "source": [
    "<h2>Directional Derivatives</h2>\n",
    "<p>Directional derivatives $D_u f = \\nabla f \\cdot \\hat u$</p>"
   ]
  },
  {
   "cell_type": "code",
   "execution_count": 96,
   "id": "6a7c6a0b-02f8-4417-b17b-e5190c87fb93",
   "metadata": {},
   "outputs": [],
   "source": [
    "u = 4*C.i - 3*C.j + 2*C.k"
   ]
  },
  {
   "cell_type": "code",
   "execution_count": 97,
   "id": "e16a93b9-7b66-428a-b23c-5bbc01b2260d",
   "metadata": {},
   "outputs": [
    {
     "data": {
      "text/latex": [
       "$\\displaystyle \\left(4\\right)\\mathbf{\\hat{i}_{}} + \\left(-3\\right)\\mathbf{\\hat{j}_{}} + \\left(2\\right)\\mathbf{\\hat{k}_{}}$"
      ],
      "text/plain": [
       "4*.i + (-3)*.j + 2*.k"
      ]
     },
     "execution_count": 97,
     "metadata": {},
     "output_type": "execute_result"
    }
   ],
   "source": [
    "u"
   ]
  },
  {
   "cell_type": "code",
   "execution_count": 100,
   "id": "b3fd6ad1-fa85-4437-b08d-132a79d40e7d",
   "metadata": {},
   "outputs": [],
   "source": [
    "unit_u = u.normalize()"
   ]
  },
  {
   "cell_type": "code",
   "execution_count": 101,
   "id": "3c253d5a-cf00-4611-af7c-1c80a2c415be",
   "metadata": {},
   "outputs": [
    {
     "data": {
      "text/latex": [
       "$\\displaystyle \\left(\\frac{4 \\sqrt{29}}{29}\\right)\\mathbf{\\hat{i}_{}} + \\left(- \\frac{3 \\sqrt{29}}{29}\\right)\\mathbf{\\hat{j}_{}} + \\left(\\frac{2 \\sqrt{29}}{29}\\right)\\mathbf{\\hat{k}_{}}$"
      ],
      "text/plain": [
       "(4*sqrt(29)/29)*.i + (-3*sqrt(29)/29)*.j + (2*sqrt(29)/29)*.k"
      ]
     },
     "execution_count": 101,
     "metadata": {},
     "output_type": "execute_result"
    }
   ],
   "source": [
    "unit_u"
   ]
  },
  {
   "cell_type": "code",
   "execution_count": 102,
   "id": "b465592f-9372-43b8-b190-d40b84583604",
   "metadata": {},
   "outputs": [
    {
     "data": {
      "text/latex": [
       "$\\displaystyle - \\frac{3 \\sqrt{29} \\mathbf{{x}_{}} \\cos{\\left(\\mathbf{{y}_{}} \\right)}}{29} + \\frac{4 \\sqrt{29} \\sin{\\left(\\mathbf{{y}_{}} \\right)}}{29}$"
      ],
      "text/plain": [
       "-3*sqrt(29)*.x*cos(.y)/29 + 4*sqrt(29)*sin(.y)/29"
      ]
     },
     "execution_count": 102,
     "metadata": {},
     "output_type": "execute_result"
    }
   ],
   "source": [
    "gradient(f).dot(unit_u)"
   ]
  },
  {
   "cell_type": "code",
   "execution_count": null,
   "id": "69809223-e310-4355-b436-a002e3a881c8",
   "metadata": {},
   "outputs": [],
   "source": []
  }
 ],
 "metadata": {
  "kernelspec": {
   "display_name": "Python 3 (ipykernel)",
   "language": "python",
   "name": "python3"
  },
  "language_info": {
   "codemirror_mode": {
    "name": "ipython",
    "version": 3
   },
   "file_extension": ".py",
   "mimetype": "text/x-python",
   "name": "python",
   "nbconvert_exporter": "python",
   "pygments_lexer": "ipython3",
   "version": "3.11.2"
  }
 },
 "nbformat": 4,
 "nbformat_minor": 5
}
